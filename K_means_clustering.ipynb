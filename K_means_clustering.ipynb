{
  "nbformat": 4,
  "nbformat_minor": 0,
  "metadata": {
    "colab": {
      "name": "K-means_clustering.ipynb",
      "provenance": [],
      "authorship_tag": "ABX9TyMhPpOph89VVsZQpb+Ignxa",
      "include_colab_link": true
    },
    "kernelspec": {
      "name": "python3",
      "display_name": "Python 3"
    },
    "language_info": {
      "name": "python"
    }
  },
  "cells": [
    {
      "cell_type": "markdown",
      "metadata": {
        "id": "view-in-github",
        "colab_type": "text"
      },
      "source": [
        "<a href=\"https://colab.research.google.com/github/HiralJain112/Python_notebooks/blob/main/K_means_clustering.ipynb\" target=\"_parent\"><img src=\"https://colab.research.google.com/assets/colab-badge.svg\" alt=\"Open In Colab\"/></a>"
      ]
    },
    {
      "cell_type": "code",
      "metadata": {
        "id": "AvwyEUrkezHB"
      },
      "source": [
        "import seaborn as sns\n",
        "import matplotlib.pyplot as plt\n",
        "%matplotlib inline"
      ],
      "execution_count": 1,
      "outputs": []
    },
    {
      "cell_type": "code",
      "metadata": {
        "id": "tKb4wQssgmZv"
      },
      "source": [
        "from sklearn.datasets import make_blobs"
      ],
      "execution_count": 2,
      "outputs": []
    },
    {
      "cell_type": "code",
      "metadata": {
        "id": "qpBjn_Pwgske"
      },
      "source": [
        "data = make_blobs(n_samples = 200, n_features =2, centers= 4, cluster_std=1.8,random_state= 7)"
      ],
      "execution_count": 3,
      "outputs": []
    },
    {
      "cell_type": "code",
      "metadata": {
        "colab": {
          "base_uri": "https://localhost:8080/"
        },
        "id": "fnZYZTd3hJoV",
        "outputId": "f9db2017-db6a-406e-9b84-845b1dd990ef"
      },
      "source": [
        "data"
      ],
      "execution_count": 4,
      "outputs": [
        {
          "output_type": "execute_result",
          "data": {
            "text/plain": [
              "(array([[ 1.33628271e+00,  4.75162273e+00],\n",
              "        [-1.07313651e+00,  2.06356657e+00],\n",
              "        [ 9.53640019e+00,  3.27731764e+00],\n",
              "        [-7.45132282e+00,  4.24326889e+00],\n",
              "        [-3.52289623e-01,  5.12124556e+00],\n",
              "        [ 6.70094302e+00,  1.23426851e+00],\n",
              "        [ 2.44572997e+00, -8.00153692e+00],\n",
              "        [-4.03313314e+00,  5.83500892e+00],\n",
              "        [-1.56167341e-01, -8.80313750e+00],\n",
              "        [-2.51171112e+00,  5.36232932e+00],\n",
              "        [ 1.02736064e+01,  2.87842562e+00],\n",
              "        [-4.92655929e+00,  8.18413555e+00],\n",
              "        [ 1.16213589e+01,  1.44949880e-01],\n",
              "        [-4.11623871e+00, -8.42607999e+00],\n",
              "        [-2.87057382e+00, -6.80777031e+00],\n",
              "        [-5.03220026e+00,  6.02551917e+00],\n",
              "        [ 8.61401674e+00,  1.28167349e+00],\n",
              "        [ 2.11628484e+00,  1.77421100e+00],\n",
              "        [-1.14457703e+01,  6.56214869e+00],\n",
              "        [-1.02859039e-01, -8.87444896e+00],\n",
              "        [-5.76786088e+00,  5.21545650e+00],\n",
              "        [ 2.72447408e-01, -1.14718615e+01],\n",
              "        [ 6.37600118e+00,  3.68607127e-01],\n",
              "        [ 6.02941235e-01, -1.11493332e+01],\n",
              "        [ 5.17233022e+00, -9.65713942e+00],\n",
              "        [-3.74407511e-01,  6.47142643e+00],\n",
              "        [ 1.18785566e+01, -2.88955643e-01],\n",
              "        [ 9.22614127e+00,  1.55922595e+00],\n",
              "        [ 8.71710551e+00, -1.02291123e+00],\n",
              "        [ 9.20900353e+00,  1.83621084e+00],\n",
              "        [ 8.50183235e+00, -3.05031164e+00],\n",
              "        [-7.56429534e+00,  5.12793430e+00],\n",
              "        [-4.46065788e-01, -8.14234971e+00],\n",
              "        [-9.81043056e+00,  7.52882208e+00],\n",
              "        [ 6.68891567e-01,  5.48789204e+00],\n",
              "        [-7.47558965e+00,  5.82136147e+00],\n",
              "        [ 7.51294402e+00,  1.99559592e-01],\n",
              "        [-8.82097404e+00,  2.39795271e+00],\n",
              "        [ 8.53656970e+00,  3.48748372e-03],\n",
              "        [-9.01331444e+00,  7.93276919e+00],\n",
              "        [-8.09801872e-03, -7.58744805e+00],\n",
              "        [-1.21420736e+00, -1.09859398e+01],\n",
              "        [-1.27192877e-01, -8.42846350e+00],\n",
              "        [ 1.68975251e+00, -8.64718146e+00],\n",
              "        [-1.75018633e+00,  5.00895859e+00],\n",
              "        [ 1.08852706e+01, -1.34133241e+00],\n",
              "        [-8.27826714e+00,  8.18720698e+00],\n",
              "        [-1.72390442e+00,  2.98707541e+00],\n",
              "        [-7.39625499e-01,  3.12098523e+00],\n",
              "        [ 1.41800149e+00, -8.99269492e+00],\n",
              "        [ 4.98122263e-01,  5.47870247e+00],\n",
              "        [ 8.63091374e+00,  1.32640694e+00],\n",
              "        [ 9.88071267e+00,  3.90254074e+00],\n",
              "        [-5.72059087e+00,  6.80332859e+00],\n",
              "        [-1.39558165e+00,  6.18671093e+00],\n",
              "        [-1.10567685e+01,  6.50129927e+00],\n",
              "        [ 7.48817045e-01, -8.78701364e+00],\n",
              "        [-9.17068611e+00,  9.25070584e+00],\n",
              "        [ 1.15034183e+00, -6.74935025e+00],\n",
              "        [-8.71211317e+00,  5.04131843e+00],\n",
              "        [-3.82659406e+00,  2.05077214e+00],\n",
              "        [ 1.18675570e+01, -9.42225416e-01],\n",
              "        [ 1.04089902e+01, -1.21278192e+00],\n",
              "        [-9.16399583e+00,  3.99663349e+00],\n",
              "        [-3.15942189e+00,  3.00732811e+00],\n",
              "        [ 9.16470013e+00,  3.60862639e-01],\n",
              "        [ 9.39492578e-01,  6.23430613e+00],\n",
              "        [-8.64443002e+00,  7.74593051e+00],\n",
              "        [-1.88281833e+00,  5.88861179e+00],\n",
              "        [-9.08964485e+00,  4.74890787e+00],\n",
              "        [ 3.09252796e-01, -7.14093951e+00],\n",
              "        [-7.97980635e+00,  2.85063169e+00],\n",
              "        [-2.00030909e+00, -9.62054977e+00],\n",
              "        [-9.20324435e+00,  1.47940866e+00],\n",
              "        [ 7.14533211e+00,  2.36421486e+00],\n",
              "        [-1.19177484e+00,  3.69698009e+00],\n",
              "        [ 9.47038017e+00,  2.06331958e+00],\n",
              "        [ 1.13113579e+01,  9.44552626e-01],\n",
              "        [-8.49587015e+00,  5.46218161e+00],\n",
              "        [ 1.06274209e+01,  2.30226911e-01],\n",
              "        [-1.15486119e+00, -1.07128983e+01],\n",
              "        [-2.16956557e+00,  4.84680326e+00],\n",
              "        [-6.58492042e+00,  4.84872207e+00],\n",
              "        [ 1.25829252e+01, -3.14601699e-01],\n",
              "        [-7.72592951e+00,  3.93599546e+00],\n",
              "        [-8.55933242e-02, -7.14114372e+00],\n",
              "        [ 9.52539874e+00,  1.90097987e+00],\n",
              "        [-3.43938967e-01, -1.26835333e+01],\n",
              "        [-1.15488448e+01,  2.35279826e+00],\n",
              "        [ 1.07682199e+00, -1.14327814e+01],\n",
              "        [ 8.49348537e+00,  8.40420978e-01],\n",
              "        [-3.69756287e+00,  5.78538145e+00],\n",
              "        [ 1.12387397e+01,  5.03036765e-01],\n",
              "        [ 1.07888823e+01, -5.62614746e-01],\n",
              "        [ 9.66841277e+00,  2.52632613e+00],\n",
              "        [-6.64204980e+00,  6.67927317e+00],\n",
              "        [-8.55552907e+00,  2.98715419e+00],\n",
              "        [-2.39840490e+00,  7.61494259e+00],\n",
              "        [-8.52709732e-01, -8.14591376e+00],\n",
              "        [-1.93451104e+00,  2.94664281e+00],\n",
              "        [-5.33078356e-01, -1.02642032e+01],\n",
              "        [-9.91517872e-01, -1.25435829e+01],\n",
              "        [ 7.16516796e-01,  3.01598773e+00],\n",
              "        [-7.98889328e+00,  4.65408753e+00],\n",
              "        [ 2.79887894e+00, -6.61579481e+00],\n",
              "        [-7.87628062e+00,  6.92142370e+00],\n",
              "        [-1.73780961e+00,  1.70431942e+00],\n",
              "        [ 5.03745501e-01,  4.97984912e+00],\n",
              "        [ 1.04588952e+01, -5.33075028e-01],\n",
              "        [ 9.32077268e+00, -2.64983297e+00],\n",
              "        [-5.29474463e+00,  5.00543109e+00],\n",
              "        [-1.21897809e+01,  4.40648903e+00],\n",
              "        [-2.09296755e+00,  5.16299932e+00],\n",
              "        [-4.67116335e+00,  5.61484670e+00],\n",
              "        [ 1.17126370e+00, -8.15995002e+00],\n",
              "        [-3.61616978e+00,  5.66667019e+00],\n",
              "        [-2.55465813e+00, -7.77794033e+00],\n",
              "        [-6.96051438e+00,  5.27440032e+00],\n",
              "        [-7.78421488e+00,  9.64404694e+00],\n",
              "        [ 7.79851035e-01, -7.16941796e+00],\n",
              "        [-2.34227488e+00,  3.81719555e+00],\n",
              "        [ 1.09546227e+00, -8.65651967e+00],\n",
              "        [-8.91078255e+00,  2.98254130e+00],\n",
              "        [-8.65313335e+00,  8.65754298e+00],\n",
              "        [ 1.18554414e+01,  8.04767798e-01],\n",
              "        [ 7.68755433e+00,  8.10917750e-01],\n",
              "        [-2.52449320e+00, -9.72209648e+00],\n",
              "        [-7.59843086e+00,  4.57332576e+00],\n",
              "        [-1.34923513e+00, -8.01122443e+00],\n",
              "        [-2.22707515e+00, -1.12546363e+01],\n",
              "        [ 8.65395467e+00,  1.92032111e+00],\n",
              "        [-1.36828033e+00,  5.87564682e+00],\n",
              "        [-8.47543691e+00,  2.43987209e+00],\n",
              "        [-5.50257477e+00,  5.87617981e+00],\n",
              "        [ 3.00961957e+00, -9.88499084e+00],\n",
              "        [-8.29125304e+00,  6.05301577e+00],\n",
              "        [ 8.80331086e+00,  2.61738580e+00],\n",
              "        [ 6.38199704e+00,  1.44862245e+00],\n",
              "        [-1.20573527e+00,  1.24073582e+00],\n",
              "        [-8.50122721e-02,  4.70442492e+00],\n",
              "        [ 8.76123134e+00,  4.59987492e-01],\n",
              "        [-1.69678477e+00,  6.51766586e+00],\n",
              "        [ 1.65503370e-01, -7.61681853e+00],\n",
              "        [-7.48609300e+00,  6.81630803e+00],\n",
              "        [-1.04409952e-01, -6.05170816e+00],\n",
              "        [ 1.28678201e+01,  7.85083488e-01],\n",
              "        [ 5.41046035e+00,  2.39604819e+00],\n",
              "        [-2.92431778e+00,  4.23300739e+00],\n",
              "        [ 1.06481266e+01,  2.45473847e+00],\n",
              "        [-1.06414299e+01,  8.22993197e+00],\n",
              "        [-9.01418294e+00,  3.47440808e+00],\n",
              "        [-2.60771301e+00, -6.45214659e+00],\n",
              "        [ 1.04156174e+01, -2.61976245e-01],\n",
              "        [-7.76905196e+00,  3.00075686e+00],\n",
              "        [ 7.33674473e-01,  7.55518800e+00],\n",
              "        [ 2.42006795e-01, -5.35673012e+00],\n",
              "        [ 9.33135377e+00, -1.64529734e-01],\n",
              "        [-2.70255982e+00,  4.81545741e+00],\n",
              "        [ 1.86009872e+00,  3.64467533e+00],\n",
              "        [ 9.36598951e+00, -1.75264700e+00],\n",
              "        [-2.93217007e+00, -6.45117554e+00],\n",
              "        [-1.53295831e+00, -9.66503983e+00],\n",
              "        [ 9.15615309e-02, -7.67729749e+00],\n",
              "        [-3.45215847e+00,  4.79852482e+00],\n",
              "        [-7.29536395e+00,  7.20820999e+00],\n",
              "        [-4.26192969e+00,  6.29633044e+00],\n",
              "        [ 1.09289782e+01,  6.09601094e-01],\n",
              "        [-5.52609931e+00, -1.12913782e+01],\n",
              "        [-2.90459824e+00,  5.21053785e+00],\n",
              "        [ 1.18001454e+01,  2.23497599e+00],\n",
              "        [-1.00299162e+01,  6.27224247e+00],\n",
              "        [ 4.58117813e-01,  4.73402211e+00],\n",
              "        [ 3.23114194e+00, -1.04748673e+01],\n",
              "        [-3.47014690e+00,  3.54243456e+00],\n",
              "        [-2.48567920e+00,  5.51865010e+00],\n",
              "        [-1.61311729e+00, -1.06455141e+01],\n",
              "        [ 1.00999953e+01,  2.22930032e+00],\n",
              "        [-9.68639555e+00,  5.49781443e+00],\n",
              "        [-4.40592964e+00,  7.16264664e+00],\n",
              "        [-2.18735212e+00,  2.44977126e+00],\n",
              "        [-1.58075674e+00,  5.72443295e+00],\n",
              "        [-1.06222997e+01,  3.70834558e+00],\n",
              "        [-4.74537595e+00,  5.14129897e+00],\n",
              "        [ 1.21884594e+01,  8.82554868e-01],\n",
              "        [-7.88390835e-03, -1.07005273e+01],\n",
              "        [-9.59960637e+00,  5.28958897e+00],\n",
              "        [-1.15621609e+00, -9.97486727e+00],\n",
              "        [-9.13770746e+00,  2.16691006e+00],\n",
              "        [ 1.04456503e+01,  7.15001478e-01],\n",
              "        [-1.57067162e+00, -9.07586155e+00],\n",
              "        [ 9.25928071e+00,  3.56270329e-01],\n",
              "        [ 7.25717519e-01, -1.11531508e+01],\n",
              "        [-3.37868400e-01, -9.97325764e+00],\n",
              "        [-8.82668337e+00,  4.53499017e+00],\n",
              "        [-5.77808380e+00,  5.08963242e+00],\n",
              "        [-6.90590624e-01,  6.66407755e+00],\n",
              "        [-3.17218818e+00,  1.17093682e+00],\n",
              "        [-1.02200748e+00,  1.13245299e+00],\n",
              "        [ 4.77177912e+00, -4.99104374e+00],\n",
              "        [ 1.01533400e+01,  4.57034959e-01]]),\n",
              " array([1, 1, 2, 0, 1, 2, 3, 1, 3, 1, 2, 1, 2, 3, 3, 0, 2, 1, 0, 3, 0, 3,\n",
              "        2, 3, 3, 1, 2, 2, 2, 2, 2, 0, 3, 0, 1, 0, 2, 0, 2, 0, 3, 3, 3, 3,\n",
              "        1, 2, 0, 1, 1, 3, 1, 2, 2, 0, 1, 0, 3, 0, 3, 0, 1, 2, 2, 0, 1, 2,\n",
              "        1, 0, 1, 0, 3, 0, 3, 0, 2, 1, 2, 2, 0, 2, 3, 1, 0, 2, 0, 3, 2, 3,\n",
              "        0, 3, 2, 1, 2, 2, 2, 0, 0, 1, 3, 1, 3, 3, 1, 0, 3, 0, 1, 1, 2, 2,\n",
              "        0, 0, 1, 1, 3, 1, 3, 0, 0, 3, 1, 3, 0, 0, 2, 2, 3, 0, 3, 3, 2, 1,\n",
              "        0, 0, 3, 0, 2, 2, 1, 1, 2, 1, 3, 0, 3, 2, 2, 1, 2, 0, 0, 3, 2, 0,\n",
              "        1, 3, 2, 1, 1, 2, 3, 3, 3, 1, 0, 1, 2, 3, 1, 2, 0, 1, 3, 1, 1, 3,\n",
              "        2, 0, 0, 1, 1, 0, 1, 2, 3, 0, 3, 0, 2, 3, 2, 3, 3, 0, 0, 1, 1, 1,\n",
              "        3, 2]))"
            ]
          },
          "metadata": {
            "tags": []
          },
          "execution_count": 4
        }
      ]
    },
    {
      "cell_type": "code",
      "metadata": {
        "colab": {
          "base_uri": "https://localhost:8080/"
        },
        "id": "9-HwmzTKhLNG",
        "outputId": "7c39124b-46a2-45fe-b6ce-d4dcf3ac2173"
      },
      "source": [
        "data[0]"
      ],
      "execution_count": 5,
      "outputs": [
        {
          "output_type": "execute_result",
          "data": {
            "text/plain": [
              "array([[ 1.33628271e+00,  4.75162273e+00],\n",
              "       [-1.07313651e+00,  2.06356657e+00],\n",
              "       [ 9.53640019e+00,  3.27731764e+00],\n",
              "       [-7.45132282e+00,  4.24326889e+00],\n",
              "       [-3.52289623e-01,  5.12124556e+00],\n",
              "       [ 6.70094302e+00,  1.23426851e+00],\n",
              "       [ 2.44572997e+00, -8.00153692e+00],\n",
              "       [-4.03313314e+00,  5.83500892e+00],\n",
              "       [-1.56167341e-01, -8.80313750e+00],\n",
              "       [-2.51171112e+00,  5.36232932e+00],\n",
              "       [ 1.02736064e+01,  2.87842562e+00],\n",
              "       [-4.92655929e+00,  8.18413555e+00],\n",
              "       [ 1.16213589e+01,  1.44949880e-01],\n",
              "       [-4.11623871e+00, -8.42607999e+00],\n",
              "       [-2.87057382e+00, -6.80777031e+00],\n",
              "       [-5.03220026e+00,  6.02551917e+00],\n",
              "       [ 8.61401674e+00,  1.28167349e+00],\n",
              "       [ 2.11628484e+00,  1.77421100e+00],\n",
              "       [-1.14457703e+01,  6.56214869e+00],\n",
              "       [-1.02859039e-01, -8.87444896e+00],\n",
              "       [-5.76786088e+00,  5.21545650e+00],\n",
              "       [ 2.72447408e-01, -1.14718615e+01],\n",
              "       [ 6.37600118e+00,  3.68607127e-01],\n",
              "       [ 6.02941235e-01, -1.11493332e+01],\n",
              "       [ 5.17233022e+00, -9.65713942e+00],\n",
              "       [-3.74407511e-01,  6.47142643e+00],\n",
              "       [ 1.18785566e+01, -2.88955643e-01],\n",
              "       [ 9.22614127e+00,  1.55922595e+00],\n",
              "       [ 8.71710551e+00, -1.02291123e+00],\n",
              "       [ 9.20900353e+00,  1.83621084e+00],\n",
              "       [ 8.50183235e+00, -3.05031164e+00],\n",
              "       [-7.56429534e+00,  5.12793430e+00],\n",
              "       [-4.46065788e-01, -8.14234971e+00],\n",
              "       [-9.81043056e+00,  7.52882208e+00],\n",
              "       [ 6.68891567e-01,  5.48789204e+00],\n",
              "       [-7.47558965e+00,  5.82136147e+00],\n",
              "       [ 7.51294402e+00,  1.99559592e-01],\n",
              "       [-8.82097404e+00,  2.39795271e+00],\n",
              "       [ 8.53656970e+00,  3.48748372e-03],\n",
              "       [-9.01331444e+00,  7.93276919e+00],\n",
              "       [-8.09801872e-03, -7.58744805e+00],\n",
              "       [-1.21420736e+00, -1.09859398e+01],\n",
              "       [-1.27192877e-01, -8.42846350e+00],\n",
              "       [ 1.68975251e+00, -8.64718146e+00],\n",
              "       [-1.75018633e+00,  5.00895859e+00],\n",
              "       [ 1.08852706e+01, -1.34133241e+00],\n",
              "       [-8.27826714e+00,  8.18720698e+00],\n",
              "       [-1.72390442e+00,  2.98707541e+00],\n",
              "       [-7.39625499e-01,  3.12098523e+00],\n",
              "       [ 1.41800149e+00, -8.99269492e+00],\n",
              "       [ 4.98122263e-01,  5.47870247e+00],\n",
              "       [ 8.63091374e+00,  1.32640694e+00],\n",
              "       [ 9.88071267e+00,  3.90254074e+00],\n",
              "       [-5.72059087e+00,  6.80332859e+00],\n",
              "       [-1.39558165e+00,  6.18671093e+00],\n",
              "       [-1.10567685e+01,  6.50129927e+00],\n",
              "       [ 7.48817045e-01, -8.78701364e+00],\n",
              "       [-9.17068611e+00,  9.25070584e+00],\n",
              "       [ 1.15034183e+00, -6.74935025e+00],\n",
              "       [-8.71211317e+00,  5.04131843e+00],\n",
              "       [-3.82659406e+00,  2.05077214e+00],\n",
              "       [ 1.18675570e+01, -9.42225416e-01],\n",
              "       [ 1.04089902e+01, -1.21278192e+00],\n",
              "       [-9.16399583e+00,  3.99663349e+00],\n",
              "       [-3.15942189e+00,  3.00732811e+00],\n",
              "       [ 9.16470013e+00,  3.60862639e-01],\n",
              "       [ 9.39492578e-01,  6.23430613e+00],\n",
              "       [-8.64443002e+00,  7.74593051e+00],\n",
              "       [-1.88281833e+00,  5.88861179e+00],\n",
              "       [-9.08964485e+00,  4.74890787e+00],\n",
              "       [ 3.09252796e-01, -7.14093951e+00],\n",
              "       [-7.97980635e+00,  2.85063169e+00],\n",
              "       [-2.00030909e+00, -9.62054977e+00],\n",
              "       [-9.20324435e+00,  1.47940866e+00],\n",
              "       [ 7.14533211e+00,  2.36421486e+00],\n",
              "       [-1.19177484e+00,  3.69698009e+00],\n",
              "       [ 9.47038017e+00,  2.06331958e+00],\n",
              "       [ 1.13113579e+01,  9.44552626e-01],\n",
              "       [-8.49587015e+00,  5.46218161e+00],\n",
              "       [ 1.06274209e+01,  2.30226911e-01],\n",
              "       [-1.15486119e+00, -1.07128983e+01],\n",
              "       [-2.16956557e+00,  4.84680326e+00],\n",
              "       [-6.58492042e+00,  4.84872207e+00],\n",
              "       [ 1.25829252e+01, -3.14601699e-01],\n",
              "       [-7.72592951e+00,  3.93599546e+00],\n",
              "       [-8.55933242e-02, -7.14114372e+00],\n",
              "       [ 9.52539874e+00,  1.90097987e+00],\n",
              "       [-3.43938967e-01, -1.26835333e+01],\n",
              "       [-1.15488448e+01,  2.35279826e+00],\n",
              "       [ 1.07682199e+00, -1.14327814e+01],\n",
              "       [ 8.49348537e+00,  8.40420978e-01],\n",
              "       [-3.69756287e+00,  5.78538145e+00],\n",
              "       [ 1.12387397e+01,  5.03036765e-01],\n",
              "       [ 1.07888823e+01, -5.62614746e-01],\n",
              "       [ 9.66841277e+00,  2.52632613e+00],\n",
              "       [-6.64204980e+00,  6.67927317e+00],\n",
              "       [-8.55552907e+00,  2.98715419e+00],\n",
              "       [-2.39840490e+00,  7.61494259e+00],\n",
              "       [-8.52709732e-01, -8.14591376e+00],\n",
              "       [-1.93451104e+00,  2.94664281e+00],\n",
              "       [-5.33078356e-01, -1.02642032e+01],\n",
              "       [-9.91517872e-01, -1.25435829e+01],\n",
              "       [ 7.16516796e-01,  3.01598773e+00],\n",
              "       [-7.98889328e+00,  4.65408753e+00],\n",
              "       [ 2.79887894e+00, -6.61579481e+00],\n",
              "       [-7.87628062e+00,  6.92142370e+00],\n",
              "       [-1.73780961e+00,  1.70431942e+00],\n",
              "       [ 5.03745501e-01,  4.97984912e+00],\n",
              "       [ 1.04588952e+01, -5.33075028e-01],\n",
              "       [ 9.32077268e+00, -2.64983297e+00],\n",
              "       [-5.29474463e+00,  5.00543109e+00],\n",
              "       [-1.21897809e+01,  4.40648903e+00],\n",
              "       [-2.09296755e+00,  5.16299932e+00],\n",
              "       [-4.67116335e+00,  5.61484670e+00],\n",
              "       [ 1.17126370e+00, -8.15995002e+00],\n",
              "       [-3.61616978e+00,  5.66667019e+00],\n",
              "       [-2.55465813e+00, -7.77794033e+00],\n",
              "       [-6.96051438e+00,  5.27440032e+00],\n",
              "       [-7.78421488e+00,  9.64404694e+00],\n",
              "       [ 7.79851035e-01, -7.16941796e+00],\n",
              "       [-2.34227488e+00,  3.81719555e+00],\n",
              "       [ 1.09546227e+00, -8.65651967e+00],\n",
              "       [-8.91078255e+00,  2.98254130e+00],\n",
              "       [-8.65313335e+00,  8.65754298e+00],\n",
              "       [ 1.18554414e+01,  8.04767798e-01],\n",
              "       [ 7.68755433e+00,  8.10917750e-01],\n",
              "       [-2.52449320e+00, -9.72209648e+00],\n",
              "       [-7.59843086e+00,  4.57332576e+00],\n",
              "       [-1.34923513e+00, -8.01122443e+00],\n",
              "       [-2.22707515e+00, -1.12546363e+01],\n",
              "       [ 8.65395467e+00,  1.92032111e+00],\n",
              "       [-1.36828033e+00,  5.87564682e+00],\n",
              "       [-8.47543691e+00,  2.43987209e+00],\n",
              "       [-5.50257477e+00,  5.87617981e+00],\n",
              "       [ 3.00961957e+00, -9.88499084e+00],\n",
              "       [-8.29125304e+00,  6.05301577e+00],\n",
              "       [ 8.80331086e+00,  2.61738580e+00],\n",
              "       [ 6.38199704e+00,  1.44862245e+00],\n",
              "       [-1.20573527e+00,  1.24073582e+00],\n",
              "       [-8.50122721e-02,  4.70442492e+00],\n",
              "       [ 8.76123134e+00,  4.59987492e-01],\n",
              "       [-1.69678477e+00,  6.51766586e+00],\n",
              "       [ 1.65503370e-01, -7.61681853e+00],\n",
              "       [-7.48609300e+00,  6.81630803e+00],\n",
              "       [-1.04409952e-01, -6.05170816e+00],\n",
              "       [ 1.28678201e+01,  7.85083488e-01],\n",
              "       [ 5.41046035e+00,  2.39604819e+00],\n",
              "       [-2.92431778e+00,  4.23300739e+00],\n",
              "       [ 1.06481266e+01,  2.45473847e+00],\n",
              "       [-1.06414299e+01,  8.22993197e+00],\n",
              "       [-9.01418294e+00,  3.47440808e+00],\n",
              "       [-2.60771301e+00, -6.45214659e+00],\n",
              "       [ 1.04156174e+01, -2.61976245e-01],\n",
              "       [-7.76905196e+00,  3.00075686e+00],\n",
              "       [ 7.33674473e-01,  7.55518800e+00],\n",
              "       [ 2.42006795e-01, -5.35673012e+00],\n",
              "       [ 9.33135377e+00, -1.64529734e-01],\n",
              "       [-2.70255982e+00,  4.81545741e+00],\n",
              "       [ 1.86009872e+00,  3.64467533e+00],\n",
              "       [ 9.36598951e+00, -1.75264700e+00],\n",
              "       [-2.93217007e+00, -6.45117554e+00],\n",
              "       [-1.53295831e+00, -9.66503983e+00],\n",
              "       [ 9.15615309e-02, -7.67729749e+00],\n",
              "       [-3.45215847e+00,  4.79852482e+00],\n",
              "       [-7.29536395e+00,  7.20820999e+00],\n",
              "       [-4.26192969e+00,  6.29633044e+00],\n",
              "       [ 1.09289782e+01,  6.09601094e-01],\n",
              "       [-5.52609931e+00, -1.12913782e+01],\n",
              "       [-2.90459824e+00,  5.21053785e+00],\n",
              "       [ 1.18001454e+01,  2.23497599e+00],\n",
              "       [-1.00299162e+01,  6.27224247e+00],\n",
              "       [ 4.58117813e-01,  4.73402211e+00],\n",
              "       [ 3.23114194e+00, -1.04748673e+01],\n",
              "       [-3.47014690e+00,  3.54243456e+00],\n",
              "       [-2.48567920e+00,  5.51865010e+00],\n",
              "       [-1.61311729e+00, -1.06455141e+01],\n",
              "       [ 1.00999953e+01,  2.22930032e+00],\n",
              "       [-9.68639555e+00,  5.49781443e+00],\n",
              "       [-4.40592964e+00,  7.16264664e+00],\n",
              "       [-2.18735212e+00,  2.44977126e+00],\n",
              "       [-1.58075674e+00,  5.72443295e+00],\n",
              "       [-1.06222997e+01,  3.70834558e+00],\n",
              "       [-4.74537595e+00,  5.14129897e+00],\n",
              "       [ 1.21884594e+01,  8.82554868e-01],\n",
              "       [-7.88390835e-03, -1.07005273e+01],\n",
              "       [-9.59960637e+00,  5.28958897e+00],\n",
              "       [-1.15621609e+00, -9.97486727e+00],\n",
              "       [-9.13770746e+00,  2.16691006e+00],\n",
              "       [ 1.04456503e+01,  7.15001478e-01],\n",
              "       [-1.57067162e+00, -9.07586155e+00],\n",
              "       [ 9.25928071e+00,  3.56270329e-01],\n",
              "       [ 7.25717519e-01, -1.11531508e+01],\n",
              "       [-3.37868400e-01, -9.97325764e+00],\n",
              "       [-8.82668337e+00,  4.53499017e+00],\n",
              "       [-5.77808380e+00,  5.08963242e+00],\n",
              "       [-6.90590624e-01,  6.66407755e+00],\n",
              "       [-3.17218818e+00,  1.17093682e+00],\n",
              "       [-1.02200748e+00,  1.13245299e+00],\n",
              "       [ 4.77177912e+00, -4.99104374e+00],\n",
              "       [ 1.01533400e+01,  4.57034959e-01]])"
            ]
          },
          "metadata": {
            "tags": []
          },
          "execution_count": 5
        }
      ]
    },
    {
      "cell_type": "code",
      "metadata": {
        "colab": {
          "base_uri": "https://localhost:8080/"
        },
        "id": "KziE-AMVhZCZ",
        "outputId": "7df30bac-8638-4601-d0e9-f7cb1ffa3057"
      },
      "source": [
        "data[0].shape"
      ],
      "execution_count": 6,
      "outputs": [
        {
          "output_type": "execute_result",
          "data": {
            "text/plain": [
              "(200, 2)"
            ]
          },
          "metadata": {
            "tags": []
          },
          "execution_count": 6
        }
      ]
    },
    {
      "cell_type": "code",
      "metadata": {
        "colab": {
          "base_uri": "https://localhost:8080/",
          "height": 282
        },
        "id": "Og1CDvUhi4Y0",
        "outputId": "164e0af6-30af-4876-89be-d41a6b6783bb"
      },
      "source": [
        "plt.scatter(data[0][:,0], data[0][:,1],c= data[1], cmap ='rainbow')"
      ],
      "execution_count": 8,
      "outputs": [
        {
          "output_type": "execute_result",
          "data": {
            "text/plain": [
              "<matplotlib.collections.PathCollection at 0x7f7a7f4bc5d0>"
            ]
          },
          "metadata": {
            "tags": []
          },
          "execution_count": 8
        },
        {
          "output_type": "display_data",
          "data": {
            "image/png": "[encoded data removed]",
            "text/plain": [
              "<Figure size 432x288 with 1 Axes>"
            ]
          },
          "metadata": {
            "tags": [],
            "needs_background": "light"
          }
        }
      ]
    },
    {
      "cell_type": "code",
      "metadata": {
        "colab": {
          "base_uri": "https://localhost:8080/"
        },
        "id": "HAPYpU_BjDxg",
        "outputId": "fa8efb0f-47c2-4e95-c055-689df25dce52"
      },
      "source": [
        "data[1]"
      ],
      "execution_count": 9,
      "outputs": [
        {
          "output_type": "execute_result",
          "data": {
            "text/plain": [
              "array([1, 1, 2, 0, 1, 2, 3, 1, 3, 1, 2, 1, 2, 3, 3, 0, 2, 1, 0, 3, 0, 3,\n",
              "       2, 3, 3, 1, 2, 2, 2, 2, 2, 0, 3, 0, 1, 0, 2, 0, 2, 0, 3, 3, 3, 3,\n",
              "       1, 2, 0, 1, 1, 3, 1, 2, 2, 0, 1, 0, 3, 0, 3, 0, 1, 2, 2, 0, 1, 2,\n",
              "       1, 0, 1, 0, 3, 0, 3, 0, 2, 1, 2, 2, 0, 2, 3, 1, 0, 2, 0, 3, 2, 3,\n",
              "       0, 3, 2, 1, 2, 2, 2, 0, 0, 1, 3, 1, 3, 3, 1, 0, 3, 0, 1, 1, 2, 2,\n",
              "       0, 0, 1, 1, 3, 1, 3, 0, 0, 3, 1, 3, 0, 0, 2, 2, 3, 0, 3, 3, 2, 1,\n",
              "       0, 0, 3, 0, 2, 2, 1, 1, 2, 1, 3, 0, 3, 2, 2, 1, 2, 0, 0, 3, 2, 0,\n",
              "       1, 3, 2, 1, 1, 2, 3, 3, 3, 1, 0, 1, 2, 3, 1, 2, 0, 1, 3, 1, 1, 3,\n",
              "       2, 0, 0, 1, 1, 0, 1, 2, 3, 0, 3, 0, 2, 3, 2, 3, 3, 0, 0, 1, 1, 1,\n",
              "       3, 2])"
            ]
          },
          "metadata": {
            "tags": []
          },
          "execution_count": 9
        }
      ]
    },
    {
      "cell_type": "code",
      "metadata": {
        "id": "BfUWToZKjbv5"
      },
      "source": [
        "from sklearn.cluster import KMeans"
      ],
      "execution_count": 10,
      "outputs": []
    },
    {
      "cell_type": "code",
      "metadata": {
        "id": "XBk-VOHBjhlJ"
      },
      "source": [
        "kmeans = KMeans(n_clusters = 4)"
      ],
      "execution_count": 13,
      "outputs": []
    },
    {
      "cell_type": "code",
      "metadata": {
        "colab": {
          "base_uri": "https://localhost:8080/"
        },
        "id": "fdBcm8MWjqHb",
        "outputId": "59b275fb-3c5b-4af0-c366-dc3206b4649b"
      },
      "source": [
        "kmeans.fit(data[0])"
      ],
      "execution_count": 14,
      "outputs": [
        {
          "output_type": "execute_result",
          "data": {
            "text/plain": [
              "KMeans(algorithm='auto', copy_x=True, init='k-means++', max_iter=300,\n",
              "       n_clusters=4, n_init=10, n_jobs=None, precompute_distances='auto',\n",
              "       random_state=None, tol=0.0001, verbose=0)"
            ]
          },
          "metadata": {
            "tags": []
          },
          "execution_count": 14
        }
      ]
    },
    {
      "cell_type": "code",
      "metadata": {
        "colab": {
          "base_uri": "https://localhost:8080/"
        },
        "id": "kkn21WZ1j0zW",
        "outputId": "4b37fc74-1f00-4a75-cbbd-2319ac3a93d4"
      },
      "source": [
        "kmeans.cluster_centers_"
      ],
      "execution_count": 15,
      "outputs": [
        {
          "output_type": "execute_result",
          "data": {
            "text/plain": [
              "array([[-8.30587726,  5.3937672 ],\n",
              "       [ 9.66466667,  0.7366286 ],\n",
              "       [-0.16157518, -8.920025  ],\n",
              "       [-1.66410381,  4.5963258 ]])"
            ]
          },
          "metadata": {
            "tags": []
          },
          "execution_count": 15
        }
      ]
    },
    {
      "cell_type": "code",
      "metadata": {
        "colab": {
          "base_uri": "https://localhost:8080/"
        },
        "id": "L3ocJohoj53w",
        "outputId": "9175e837-7010-4f45-8c04-157f7585fa0f"
      },
      "source": [
        "kmeans.labels_"
      ],
      "execution_count": 17,
      "outputs": [
        {
          "output_type": "execute_result",
          "data": {
            "text/plain": [
              "array([3, 3, 1, 0, 3, 1, 2, 3, 2, 3, 1, 0, 1, 2, 2, 0, 1, 3, 0, 2, 0, 2,\n",
              "       1, 2, 2, 3, 1, 1, 1, 1, 1, 0, 2, 0, 3, 0, 1, 0, 1, 0, 2, 2, 2, 2,\n",
              "       3, 1, 0, 3, 3, 2, 3, 1, 1, 0, 3, 0, 2, 0, 2, 0, 3, 1, 1, 0, 3, 1,\n",
              "       3, 0, 3, 0, 2, 0, 2, 0, 1, 3, 1, 1, 0, 1, 2, 3, 0, 1, 0, 2, 1, 2,\n",
              "       0, 2, 1, 3, 1, 1, 1, 0, 0, 3, 2, 3, 2, 2, 3, 0, 2, 0, 3, 3, 1, 1,\n",
              "       0, 0, 3, 3, 2, 3, 2, 0, 0, 2, 3, 2, 0, 0, 1, 1, 2, 0, 2, 2, 1, 3,\n",
              "       0, 0, 2, 0, 1, 1, 3, 3, 1, 3, 2, 0, 2, 1, 1, 3, 1, 0, 0, 2, 1, 0,\n",
              "       3, 2, 1, 3, 3, 1, 2, 2, 2, 3, 0, 3, 1, 2, 3, 1, 0, 3, 2, 3, 3, 2,\n",
              "       1, 0, 3, 3, 3, 0, 3, 1, 2, 0, 2, 0, 1, 2, 1, 2, 2, 0, 0, 3, 3, 3,\n",
              "       2, 1], dtype=int32)"
            ]
          },
          "metadata": {
            "tags": []
          },
          "execution_count": 17
        }
      ]
    },
    {
      "cell_type": "code",
      "metadata": {
        "colab": {
          "base_uri": "https://localhost:8080/",
          "height": 407
        },
        "id": "WWmYNmhaj9YH",
        "outputId": "11601c9c-e297-4618-900c-095a110c1946"
      },
      "source": [
        "fig , (ax1,ax2) = plt.subplots(1,2, sharey = True, figsize= (10,6))\n",
        "\n",
        "ax1.set_title('K Means')\n",
        "ax1.scatter(data[0][:,0],data[0][:,1], c= kmeans.labels_, cmap='rainbow')\n",
        "\n",
        "ax2.set_title('Original')\n",
        "ax2.scatter(data[0][:,0], data[0][:,1], c= data[1], cmap= 'rainbow')"
      ],
      "execution_count": 19,
      "outputs": [
        {
          "output_type": "execute_result",
          "data": {
            "text/plain": [
              "<matplotlib.collections.PathCollection at 0x7f7a7124ea50>"
            ]
          },
          "metadata": {
            "tags": []
          },
          "execution_count": 19
        },
        {
          "output_type": "display_data",
          "data": {
            "image/png": "[encoded data removed]",
            "text/plain": [
              "<Figure size 720x432 with 2 Axes>"
            ]
          },
          "metadata": {
            "tags": [],
            "needs_background": "light"
          }
        }
      ]
    }
  ]
}