{
  "nbformat": 4,
  "nbformat_minor": 0,
  "metadata": {
    "colab": {
      "name": "Data_capstone_Finance_project.ipynb",
      "provenance": [],
      "authorship_tag": "ABX9TyO1s19HZKKUO1UpzYkNacDA",
      "include_colab_link": true
    },
    "kernelspec": {
      "name": "python3",
      "display_name": "Python 3"
    },
    "language_info": {
      "name": "python"
    }
  },
  "cells": [
    {
      "cell_type": "markdown",
      "metadata": {
        "id": "view-in-github",
        "colab_type": "text"
      },
      "source": [
        "<a href=\"https://colab.research.google.com/github/HiralJain112/Python_notebooks/blob/main/Data_capstone_Finance_project.ipynb\" target=\"_parent\"><img src=\"https://colab.research.google.com/assets/colab-badge.svg\" alt=\"Open In Colab\"/></a>"
      ]
    },
    {
      "cell_type": "code",
      "metadata": {
        "colab": {
          "base_uri": "https://localhost:8080/"
        },
        "id": "hKfVOnQk5gLY",
        "outputId": "a35150c2-1db9-4dab-cb61-61d9bd40f6d3"
      },
      "source": [
        "pip install pandas-datareader"
      ],
      "execution_count": 1,
      "outputs": [
        {
          "output_type": "stream",
          "text": [
            "Requirement already satisfied: pandas-datareader in /usr/local/lib/python3.7/dist-packages (0.9.0)\n",
            "Requirement already satisfied: lxml in /usr/local/lib/python3.7/dist-packages (from pandas-datareader) (4.2.6)\n",
            "Requirement already satisfied: pandas>=0.23 in /usr/local/lib/python3.7/dist-packages (from pandas-datareader) (1.1.5)\n",
            "Requirement already satisfied: requests>=2.19.0 in /usr/local/lib/python3.7/dist-packages (from pandas-datareader) (2.23.0)\n",
            "Requirement already satisfied: python-dateutil>=2.7.3 in /usr/local/lib/python3.7/dist-packages (from pandas>=0.23->pandas-datareader) (2.8.1)\n",
            "Requirement already satisfied: numpy>=1.15.4 in /usr/local/lib/python3.7/dist-packages (from pandas>=0.23->pandas-datareader) (1.19.5)\n",
            "Requirement already satisfied: pytz>=2017.2 in /usr/local/lib/python3.7/dist-packages (from pandas>=0.23->pandas-datareader) (2018.9)\n",
            "Requirement already satisfied: urllib3!=1.25.0,!=1.25.1,<1.26,>=1.21.1 in /usr/local/lib/python3.7/dist-packages (from requests>=2.19.0->pandas-datareader) (1.24.3)\n",
            "Requirement already satisfied: idna<3,>=2.5 in /usr/local/lib/python3.7/dist-packages (from requests>=2.19.0->pandas-datareader) (2.10)\n",
            "Requirement already satisfied: certifi>=2017.4.17 in /usr/local/lib/python3.7/dist-packages (from requests>=2.19.0->pandas-datareader) (2020.12.5)\n",
            "Requirement already satisfied: chardet<4,>=3.0.2 in /usr/local/lib/python3.7/dist-packages (from requests>=2.19.0->pandas-datareader) (3.0.4)\n",
            "Requirement already satisfied: six>=1.5 in /usr/local/lib/python3.7/dist-packages (from python-dateutil>=2.7.3->pandas>=0.23->pandas-datareader) (1.15.0)\n"
          ],
          "name": "stdout"
        }
      ]
    },
    {
      "cell_type": "code",
      "metadata": {
        "id": "-AIqULzR60Qt"
      },
      "source": [
        "from pandas_datareader import data,wb\n",
        "import pandas as pd\n",
        "import numpy as np\n",
        "import datetime\n",
        "%matplotlib inline"
      ],
      "execution_count": 2,
      "outputs": []
    },
    {
      "cell_type": "markdown",
      "metadata": {
        "id": "ooUbCoeW8SEf"
      },
      "source": [
        "##**Data**"
      ]
    },
    {
      "cell_type": "code",
      "metadata": {
        "id": "acU2w4y77UdK"
      },
      "source": [
        "start = datetime.datetime(2006,1,1)\n",
        "end = datetime.datetime(2016,1,1)"
      ],
      "execution_count": 3,
      "outputs": []
    },
    {
      "cell_type": "code",
      "metadata": {
        "id": "BXB6DTaSJsFJ"
      },
      "source": [
        "#BAC here is Bank of America\n",
        "BAC = data.DataReader('BAC','yahoo',start,end)"
      ],
      "execution_count": 5,
      "outputs": []
    },
    {
      "cell_type": "code",
      "metadata": {
        "colab": {
          "base_uri": "https://localhost:8080/",
          "height": 431
        },
        "id": "yKemS_zNJ8-8",
        "outputId": "996c6ae7-f329-4c82-eab2-99ed168f3316"
      },
      "source": [
        "BAC"
      ],
      "execution_count": 6,
      "outputs": [
        {
          "output_type": "execute_result",
          "data": {
            "text/html": [
              "<div>\n",
              "<style scoped>\n",
              "    .dataframe tbody tr th:only-of-type {\n",
              "        vertical-align: middle;\n",
              "    }\n",
              "\n",
              "    .dataframe tbody tr th {\n",
              "        vertical-align: top;\n",
              "    }\n",
              "\n",
              "    .dataframe thead th {\n",
              "        text-align: right;\n",
              "    }\n",
              "</style>\n",
              "<table border=\"1\" class=\"dataframe\">\n",
              "  <thead>\n",
              "    <tr style=\"text-align: right;\">\n",
              "      <th></th>\n",
              "      <th>High</th>\n",
              "      <th>Low</th>\n",
              "      <th>Open</th>\n",
              "      <th>Close</th>\n",
              "      <th>Volume</th>\n",
              "      <th>Adj Close</th>\n",
              "    </tr>\n",
              "    <tr>\n",
              "      <th>Date</th>\n",
              "      <th></th>\n",
              "      <th></th>\n",
              "      <th></th>\n",
              "      <th></th>\n",
              "      <th></th>\n",
              "      <th></th>\n",
              "    </tr>\n",
              "  </thead>\n",
              "  <tbody>\n",
              "    <tr>\n",
              "      <th>2006-01-03</th>\n",
              "      <td>47.180000</td>\n",
              "      <td>46.150002</td>\n",
              "      <td>46.919998</td>\n",
              "      <td>47.080002</td>\n",
              "      <td>16296700.0</td>\n",
              "      <td>34.425114</td>\n",
              "    </tr>\n",
              "    <tr>\n",
              "      <th>2006-01-04</th>\n",
              "      <td>47.240002</td>\n",
              "      <td>46.450001</td>\n",
              "      <td>47.000000</td>\n",
              "      <td>46.580002</td>\n",
              "      <td>17757900.0</td>\n",
              "      <td>34.059509</td>\n",
              "    </tr>\n",
              "    <tr>\n",
              "      <th>2006-01-05</th>\n",
              "      <td>46.830002</td>\n",
              "      <td>46.320000</td>\n",
              "      <td>46.580002</td>\n",
              "      <td>46.639999</td>\n",
              "      <td>14970700.0</td>\n",
              "      <td>34.103382</td>\n",
              "    </tr>\n",
              "    <tr>\n",
              "      <th>2006-01-06</th>\n",
              "      <td>46.910000</td>\n",
              "      <td>46.349998</td>\n",
              "      <td>46.799999</td>\n",
              "      <td>46.570000</td>\n",
              "      <td>12599800.0</td>\n",
              "      <td>34.052204</td>\n",
              "    </tr>\n",
              "    <tr>\n",
              "      <th>2006-01-09</th>\n",
              "      <td>46.970001</td>\n",
              "      <td>46.360001</td>\n",
              "      <td>46.720001</td>\n",
              "      <td>46.599998</td>\n",
              "      <td>15619400.0</td>\n",
              "      <td>34.074108</td>\n",
              "    </tr>\n",
              "    <tr>\n",
              "      <th>...</th>\n",
              "      <td>...</td>\n",
              "      <td>...</td>\n",
              "      <td>...</td>\n",
              "      <td>...</td>\n",
              "      <td>...</td>\n",
              "      <td>...</td>\n",
              "    </tr>\n",
              "    <tr>\n",
              "      <th>2015-12-24</th>\n",
              "      <td>17.379999</td>\n",
              "      <td>17.219999</td>\n",
              "      <td>17.320000</td>\n",
              "      <td>17.270000</td>\n",
              "      <td>29369400.0</td>\n",
              "      <td>15.574412</td>\n",
              "    </tr>\n",
              "    <tr>\n",
              "      <th>2015-12-28</th>\n",
              "      <td>17.230000</td>\n",
              "      <td>16.980000</td>\n",
              "      <td>17.219999</td>\n",
              "      <td>17.129999</td>\n",
              "      <td>41777500.0</td>\n",
              "      <td>15.448163</td>\n",
              "    </tr>\n",
              "    <tr>\n",
              "      <th>2015-12-29</th>\n",
              "      <td>17.350000</td>\n",
              "      <td>17.160000</td>\n",
              "      <td>17.250000</td>\n",
              "      <td>17.280001</td>\n",
              "      <td>45670400.0</td>\n",
              "      <td>15.583436</td>\n",
              "    </tr>\n",
              "    <tr>\n",
              "      <th>2015-12-30</th>\n",
              "      <td>17.240000</td>\n",
              "      <td>17.040001</td>\n",
              "      <td>17.200001</td>\n",
              "      <td>17.049999</td>\n",
              "      <td>35066400.0</td>\n",
              "      <td>15.376013</td>\n",
              "    </tr>\n",
              "    <tr>\n",
              "      <th>2015-12-31</th>\n",
              "      <td>17.070000</td>\n",
              "      <td>16.830000</td>\n",
              "      <td>17.010000</td>\n",
              "      <td>16.830000</td>\n",
              "      <td>47153000.0</td>\n",
              "      <td>15.177611</td>\n",
              "    </tr>\n",
              "  </tbody>\n",
              "</table>\n",
              "<p>2517 rows × 6 columns</p>\n",
              "</div>"
            ],
            "text/plain": [
              "                 High        Low       Open      Close      Volume  Adj Close\n",
              "Date                                                                         \n",
              "2006-01-03  47.180000  46.150002  46.919998  47.080002  16296700.0  34.425114\n",
              "2006-01-04  47.240002  46.450001  47.000000  46.580002  17757900.0  34.059509\n",
              "2006-01-05  46.830002  46.320000  46.580002  46.639999  14970700.0  34.103382\n",
              "2006-01-06  46.910000  46.349998  46.799999  46.570000  12599800.0  34.052204\n",
              "2006-01-09  46.970001  46.360001  46.720001  46.599998  15619400.0  34.074108\n",
              "...               ...        ...        ...        ...         ...        ...\n",
              "2015-12-24  17.379999  17.219999  17.320000  17.270000  29369400.0  15.574412\n",
              "2015-12-28  17.230000  16.980000  17.219999  17.129999  41777500.0  15.448163\n",
              "2015-12-29  17.350000  17.160000  17.250000  17.280001  45670400.0  15.583436\n",
              "2015-12-30  17.240000  17.040001  17.200001  17.049999  35066400.0  15.376013\n",
              "2015-12-31  17.070000  16.830000  17.010000  16.830000  47153000.0  15.177611\n",
              "\n",
              "[2517 rows x 6 columns]"
            ]
          },
          "metadata": {
            "tags": []
          },
          "execution_count": 6
        }
      ]
    },
    {
      "cell_type": "code",
      "metadata": {
        "id": "L_ToU175KE-c"
      },
      "source": [
        "# CitiGroup\n",
        "C= data.DataReader('BAC','yahoo',start,end)\n",
        "# Goldman Sachs\n",
        "GS = data.DataReader('GS','yahoo',start,end)\n",
        "# JP Morgan Chase\n",
        "JPM = data.DataReader('JPM','yahoo',start,end)\n",
        "# Morgan Stanley\n",
        "MS = data.DataReader('MS','yahoo',start,end)\n",
        "# Wells Fargo\n",
        "WF = data.DataReader('WF','yahoo',start,end)"
      ],
      "execution_count": 8,
      "outputs": []
    },
    {
      "cell_type": "code",
      "metadata": {
        "colab": {
          "base_uri": "https://localhost:8080/",
          "height": 431
        },
        "id": "F47EqyjfK7hw",
        "outputId": "c24061cf-fb87-4098-e1d2-5056621abb92"
      },
      "source": [
        "C"
      ],
      "execution_count": 9,
      "outputs": [
        {
          "output_type": "execute_result",
          "data": {
            "text/html": [
              "<div>\n",
              "<style scoped>\n",
              "    .dataframe tbody tr th:only-of-type {\n",
              "        vertical-align: middle;\n",
              "    }\n",
              "\n",
              "    .dataframe tbody tr th {\n",
              "        vertical-align: top;\n",
              "    }\n",
              "\n",
              "    .dataframe thead th {\n",
              "        text-align: right;\n",
              "    }\n",
              "</style>\n",
              "<table border=\"1\" class=\"dataframe\">\n",
              "  <thead>\n",
              "    <tr style=\"text-align: right;\">\n",
              "      <th></th>\n",
              "      <th>High</th>\n",
              "      <th>Low</th>\n",
              "      <th>Open</th>\n",
              "      <th>Close</th>\n",
              "      <th>Volume</th>\n",
              "      <th>Adj Close</th>\n",
              "    </tr>\n",
              "    <tr>\n",
              "      <th>Date</th>\n",
              "      <th></th>\n",
              "      <th></th>\n",
              "      <th></th>\n",
              "      <th></th>\n",
              "      <th></th>\n",
              "      <th></th>\n",
              "    </tr>\n",
              "  </thead>\n",
              "  <tbody>\n",
              "    <tr>\n",
              "      <th>2006-01-03</th>\n",
              "      <td>47.180000</td>\n",
              "      <td>46.150002</td>\n",
              "      <td>46.919998</td>\n",
              "      <td>47.080002</td>\n",
              "      <td>16296700.0</td>\n",
              "      <td>34.425114</td>\n",
              "    </tr>\n",
              "    <tr>\n",
              "      <th>2006-01-04</th>\n",
              "      <td>47.240002</td>\n",
              "      <td>46.450001</td>\n",
              "      <td>47.000000</td>\n",
              "      <td>46.580002</td>\n",
              "      <td>17757900.0</td>\n",
              "      <td>34.059509</td>\n",
              "    </tr>\n",
              "    <tr>\n",
              "      <th>2006-01-05</th>\n",
              "      <td>46.830002</td>\n",
              "      <td>46.320000</td>\n",
              "      <td>46.580002</td>\n",
              "      <td>46.639999</td>\n",
              "      <td>14970700.0</td>\n",
              "      <td>34.103382</td>\n",
              "    </tr>\n",
              "    <tr>\n",
              "      <th>2006-01-06</th>\n",
              "      <td>46.910000</td>\n",
              "      <td>46.349998</td>\n",
              "      <td>46.799999</td>\n",
              "      <td>46.570000</td>\n",
              "      <td>12599800.0</td>\n",
              "      <td>34.052204</td>\n",
              "    </tr>\n",
              "    <tr>\n",
              "      <th>2006-01-09</th>\n",
              "      <td>46.970001</td>\n",
              "      <td>46.360001</td>\n",
              "      <td>46.720001</td>\n",
              "      <td>46.599998</td>\n",
              "      <td>15619400.0</td>\n",
              "      <td>34.074108</td>\n",
              "    </tr>\n",
              "    <tr>\n",
              "      <th>...</th>\n",
              "      <td>...</td>\n",
              "      <td>...</td>\n",
              "      <td>...</td>\n",
              "      <td>...</td>\n",
              "      <td>...</td>\n",
              "      <td>...</td>\n",
              "    </tr>\n",
              "    <tr>\n",
              "      <th>2015-12-24</th>\n",
              "      <td>17.379999</td>\n",
              "      <td>17.219999</td>\n",
              "      <td>17.320000</td>\n",
              "      <td>17.270000</td>\n",
              "      <td>29369400.0</td>\n",
              "      <td>15.574412</td>\n",
              "    </tr>\n",
              "    <tr>\n",
              "      <th>2015-12-28</th>\n",
              "      <td>17.230000</td>\n",
              "      <td>16.980000</td>\n",
              "      <td>17.219999</td>\n",
              "      <td>17.129999</td>\n",
              "      <td>41777500.0</td>\n",
              "      <td>15.448163</td>\n",
              "    </tr>\n",
              "    <tr>\n",
              "      <th>2015-12-29</th>\n",
              "      <td>17.350000</td>\n",
              "      <td>17.160000</td>\n",
              "      <td>17.250000</td>\n",
              "      <td>17.280001</td>\n",
              "      <td>45670400.0</td>\n",
              "      <td>15.583436</td>\n",
              "    </tr>\n",
              "    <tr>\n",
              "      <th>2015-12-30</th>\n",
              "      <td>17.240000</td>\n",
              "      <td>17.040001</td>\n",
              "      <td>17.200001</td>\n",
              "      <td>17.049999</td>\n",
              "      <td>35066400.0</td>\n",
              "      <td>15.376013</td>\n",
              "    </tr>\n",
              "    <tr>\n",
              "      <th>2015-12-31</th>\n",
              "      <td>17.070000</td>\n",
              "      <td>16.830000</td>\n",
              "      <td>17.010000</td>\n",
              "      <td>16.830000</td>\n",
              "      <td>47153000.0</td>\n",
              "      <td>15.177611</td>\n",
              "    </tr>\n",
              "  </tbody>\n",
              "</table>\n",
              "<p>2517 rows × 6 columns</p>\n",
              "</div>"
            ],
            "text/plain": [
              "                 High        Low       Open      Close      Volume  Adj Close\n",
              "Date                                                                         \n",
              "2006-01-03  47.180000  46.150002  46.919998  47.080002  16296700.0  34.425114\n",
              "2006-01-04  47.240002  46.450001  47.000000  46.580002  17757900.0  34.059509\n",
              "2006-01-05  46.830002  46.320000  46.580002  46.639999  14970700.0  34.103382\n",
              "2006-01-06  46.910000  46.349998  46.799999  46.570000  12599800.0  34.052204\n",
              "2006-01-09  46.970001  46.360001  46.720001  46.599998  15619400.0  34.074108\n",
              "...               ...        ...        ...        ...         ...        ...\n",
              "2015-12-24  17.379999  17.219999  17.320000  17.270000  29369400.0  15.574412\n",
              "2015-12-28  17.230000  16.980000  17.219999  17.129999  41777500.0  15.448163\n",
              "2015-12-29  17.350000  17.160000  17.250000  17.280001  45670400.0  15.583436\n",
              "2015-12-30  17.240000  17.040001  17.200001  17.049999  35066400.0  15.376013\n",
              "2015-12-31  17.070000  16.830000  17.010000  16.830000  47153000.0  15.177611\n",
              "\n",
              "[2517 rows x 6 columns]"
            ]
          },
          "metadata": {
            "tags": []
          },
          "execution_count": 9
        }
      ]
    },
    {
      "cell_type": "code",
      "metadata": {
        "colab": {
          "base_uri": "https://localhost:8080/",
          "height": 431
        },
        "id": "Kf27GqVfLEPU",
        "outputId": "7e968f18-62be-4549-ca1d-10b33be187c4"
      },
      "source": [
        "GS"
      ],
      "execution_count": 10,
      "outputs": [
        {
          "output_type": "execute_result",
          "data": {
            "text/html": [
              "<div>\n",
              "<style scoped>\n",
              "    .dataframe tbody tr th:only-of-type {\n",
              "        vertical-align: middle;\n",
              "    }\n",
              "\n",
              "    .dataframe tbody tr th {\n",
              "        vertical-align: top;\n",
              "    }\n",
              "\n",
              "    .dataframe thead th {\n",
              "        text-align: right;\n",
              "    }\n",
              "</style>\n",
              "<table border=\"1\" class=\"dataframe\">\n",
              "  <thead>\n",
              "    <tr style=\"text-align: right;\">\n",
              "      <th></th>\n",
              "      <th>High</th>\n",
              "      <th>Low</th>\n",
              "      <th>Open</th>\n",
              "      <th>Close</th>\n",
              "      <th>Volume</th>\n",
              "      <th>Adj Close</th>\n",
              "    </tr>\n",
              "    <tr>\n",
              "      <th>Date</th>\n",
              "      <th></th>\n",
              "      <th></th>\n",
              "      <th></th>\n",
              "      <th></th>\n",
              "      <th></th>\n",
              "      <th></th>\n",
              "    </tr>\n",
              "  </thead>\n",
              "  <tbody>\n",
              "    <tr>\n",
              "      <th>2006-01-03</th>\n",
              "      <td>129.440002</td>\n",
              "      <td>124.230003</td>\n",
              "      <td>126.699997</td>\n",
              "      <td>128.869995</td>\n",
              "      <td>6188700.0</td>\n",
              "      <td>105.273788</td>\n",
              "    </tr>\n",
              "    <tr>\n",
              "      <th>2006-01-04</th>\n",
              "      <td>128.910004</td>\n",
              "      <td>126.379997</td>\n",
              "      <td>127.349998</td>\n",
              "      <td>127.089996</td>\n",
              "      <td>4861600.0</td>\n",
              "      <td>103.819702</td>\n",
              "    </tr>\n",
              "    <tr>\n",
              "      <th>2006-01-05</th>\n",
              "      <td>127.320000</td>\n",
              "      <td>125.610001</td>\n",
              "      <td>126.000000</td>\n",
              "      <td>127.040001</td>\n",
              "      <td>3717400.0</td>\n",
              "      <td>103.778839</td>\n",
              "    </tr>\n",
              "    <tr>\n",
              "      <th>2006-01-06</th>\n",
              "      <td>129.250000</td>\n",
              "      <td>127.290001</td>\n",
              "      <td>127.290001</td>\n",
              "      <td>128.839996</td>\n",
              "      <td>4319600.0</td>\n",
              "      <td>105.249245</td>\n",
              "    </tr>\n",
              "    <tr>\n",
              "      <th>2006-01-09</th>\n",
              "      <td>130.619995</td>\n",
              "      <td>128.000000</td>\n",
              "      <td>128.500000</td>\n",
              "      <td>130.389999</td>\n",
              "      <td>4723500.0</td>\n",
              "      <td>106.515495</td>\n",
              "    </tr>\n",
              "    <tr>\n",
              "      <th>...</th>\n",
              "      <td>...</td>\n",
              "      <td>...</td>\n",
              "      <td>...</td>\n",
              "      <td>...</td>\n",
              "      <td>...</td>\n",
              "      <td>...</td>\n",
              "    </tr>\n",
              "    <tr>\n",
              "      <th>2015-12-24</th>\n",
              "      <td>183.169998</td>\n",
              "      <td>182.020004</td>\n",
              "      <td>182.270004</td>\n",
              "      <td>182.470001</td>\n",
              "      <td>1107600.0</td>\n",
              "      <td>166.806946</td>\n",
              "    </tr>\n",
              "    <tr>\n",
              "      <th>2015-12-28</th>\n",
              "      <td>181.929993</td>\n",
              "      <td>179.839996</td>\n",
              "      <td>181.770004</td>\n",
              "      <td>181.619995</td>\n",
              "      <td>1723300.0</td>\n",
              "      <td>166.029938</td>\n",
              "    </tr>\n",
              "    <tr>\n",
              "      <th>2015-12-29</th>\n",
              "      <td>184.179993</td>\n",
              "      <td>182.500000</td>\n",
              "      <td>182.820007</td>\n",
              "      <td>183.529999</td>\n",
              "      <td>1848900.0</td>\n",
              "      <td>167.775925</td>\n",
              "    </tr>\n",
              "    <tr>\n",
              "      <th>2015-12-30</th>\n",
              "      <td>183.529999</td>\n",
              "      <td>181.839996</td>\n",
              "      <td>183.279999</td>\n",
              "      <td>182.009995</td>\n",
              "      <td>1514300.0</td>\n",
              "      <td>166.386414</td>\n",
              "    </tr>\n",
              "    <tr>\n",
              "      <th>2015-12-31</th>\n",
              "      <td>182.889999</td>\n",
              "      <td>180.029999</td>\n",
              "      <td>181.160004</td>\n",
              "      <td>180.229996</td>\n",
              "      <td>1773900.0</td>\n",
              "      <td>164.759216</td>\n",
              "    </tr>\n",
              "  </tbody>\n",
              "</table>\n",
              "<p>2517 rows × 6 columns</p>\n",
              "</div>"
            ],
            "text/plain": [
              "                  High         Low  ...     Volume   Adj Close\n",
              "Date                                ...                       \n",
              "2006-01-03  129.440002  124.230003  ...  6188700.0  105.273788\n",
              "2006-01-04  128.910004  126.379997  ...  4861600.0  103.819702\n",
              "2006-01-05  127.320000  125.610001  ...  3717400.0  103.778839\n",
              "2006-01-06  129.250000  127.290001  ...  4319600.0  105.249245\n",
              "2006-01-09  130.619995  128.000000  ...  4723500.0  106.515495\n",
              "...                ...         ...  ...        ...         ...\n",
              "2015-12-24  183.169998  182.020004  ...  1107600.0  166.806946\n",
              "2015-12-28  181.929993  179.839996  ...  1723300.0  166.029938\n",
              "2015-12-29  184.179993  182.500000  ...  1848900.0  167.775925\n",
              "2015-12-30  183.529999  181.839996  ...  1514300.0  166.386414\n",
              "2015-12-31  182.889999  180.029999  ...  1773900.0  164.759216\n",
              "\n",
              "[2517 rows x 6 columns]"
            ]
          },
          "metadata": {
            "tags": []
          },
          "execution_count": 10
        }
      ]
    },
    {
      "cell_type": "code",
      "metadata": {
        "colab": {
          "base_uri": "https://localhost:8080/",
          "height": 431
        },
        "id": "rmH1QyZiLH9t",
        "outputId": "5a36e1f1-3eb3-47df-c5ce-d56ba5812978"
      },
      "source": [
        "JPM"
      ],
      "execution_count": 11,
      "outputs": [
        {
          "output_type": "execute_result",
          "data": {
            "text/html": [
              "<div>\n",
              "<style scoped>\n",
              "    .dataframe tbody tr th:only-of-type {\n",
              "        vertical-align: middle;\n",
              "    }\n",
              "\n",
              "    .dataframe tbody tr th {\n",
              "        vertical-align: top;\n",
              "    }\n",
              "\n",
              "    .dataframe thead th {\n",
              "        text-align: right;\n",
              "    }\n",
              "</style>\n",
              "<table border=\"1\" class=\"dataframe\">\n",
              "  <thead>\n",
              "    <tr style=\"text-align: right;\">\n",
              "      <th></th>\n",
              "      <th>High</th>\n",
              "      <th>Low</th>\n",
              "      <th>Open</th>\n",
              "      <th>Close</th>\n",
              "      <th>Volume</th>\n",
              "      <th>Adj Close</th>\n",
              "    </tr>\n",
              "    <tr>\n",
              "      <th>Date</th>\n",
              "      <th></th>\n",
              "      <th></th>\n",
              "      <th></th>\n",
              "      <th></th>\n",
              "      <th></th>\n",
              "      <th></th>\n",
              "    </tr>\n",
              "  </thead>\n",
              "  <tbody>\n",
              "    <tr>\n",
              "      <th>2006-01-03</th>\n",
              "      <td>40.360001</td>\n",
              "      <td>39.299999</td>\n",
              "      <td>39.830002</td>\n",
              "      <td>40.189999</td>\n",
              "      <td>12838600.0</td>\n",
              "      <td>26.816757</td>\n",
              "    </tr>\n",
              "    <tr>\n",
              "      <th>2006-01-04</th>\n",
              "      <td>40.139999</td>\n",
              "      <td>39.419998</td>\n",
              "      <td>39.779999</td>\n",
              "      <td>39.619999</td>\n",
              "      <td>13491500.0</td>\n",
              "      <td>26.661957</td>\n",
              "    </tr>\n",
              "    <tr>\n",
              "      <th>2006-01-05</th>\n",
              "      <td>39.810001</td>\n",
              "      <td>39.500000</td>\n",
              "      <td>39.610001</td>\n",
              "      <td>39.740002</td>\n",
              "      <td>8109400.0</td>\n",
              "      <td>26.742729</td>\n",
              "    </tr>\n",
              "    <tr>\n",
              "      <th>2006-01-06</th>\n",
              "      <td>40.240002</td>\n",
              "      <td>39.549999</td>\n",
              "      <td>39.919998</td>\n",
              "      <td>40.020000</td>\n",
              "      <td>7966900.0</td>\n",
              "      <td>26.931145</td>\n",
              "    </tr>\n",
              "    <tr>\n",
              "      <th>2006-01-09</th>\n",
              "      <td>40.720001</td>\n",
              "      <td>39.880001</td>\n",
              "      <td>39.880001</td>\n",
              "      <td>40.669998</td>\n",
              "      <td>16575200.0</td>\n",
              "      <td>27.368553</td>\n",
              "    </tr>\n",
              "    <tr>\n",
              "      <th>...</th>\n",
              "      <td>...</td>\n",
              "      <td>...</td>\n",
              "      <td>...</td>\n",
              "      <td>...</td>\n",
              "      <td>...</td>\n",
              "      <td>...</td>\n",
              "    </tr>\n",
              "    <tr>\n",
              "      <th>2015-12-24</th>\n",
              "      <td>66.889999</td>\n",
              "      <td>66.320000</td>\n",
              "      <td>66.620003</td>\n",
              "      <td>66.599998</td>\n",
              "      <td>4468200.0</td>\n",
              "      <td>57.109337</td>\n",
              "    </tr>\n",
              "    <tr>\n",
              "      <th>2015-12-28</th>\n",
              "      <td>66.449997</td>\n",
              "      <td>65.709999</td>\n",
              "      <td>66.290001</td>\n",
              "      <td>66.379997</td>\n",
              "      <td>6610600.0</td>\n",
              "      <td>56.920696</td>\n",
              "    </tr>\n",
              "    <tr>\n",
              "      <th>2015-12-29</th>\n",
              "      <td>67.300003</td>\n",
              "      <td>66.739998</td>\n",
              "      <td>66.839996</td>\n",
              "      <td>67.070000</td>\n",
              "      <td>9820800.0</td>\n",
              "      <td>57.512379</td>\n",
              "    </tr>\n",
              "    <tr>\n",
              "      <th>2015-12-30</th>\n",
              "      <td>67.050003</td>\n",
              "      <td>66.449997</td>\n",
              "      <td>67.040001</td>\n",
              "      <td>66.589996</td>\n",
              "      <td>7190700.0</td>\n",
              "      <td>57.100773</td>\n",
              "    </tr>\n",
              "    <tr>\n",
              "      <th>2015-12-31</th>\n",
              "      <td>66.779999</td>\n",
              "      <td>66.000000</td>\n",
              "      <td>66.190002</td>\n",
              "      <td>66.029999</td>\n",
              "      <td>14654300.0</td>\n",
              "      <td>56.620583</td>\n",
              "    </tr>\n",
              "  </tbody>\n",
              "</table>\n",
              "<p>2517 rows × 6 columns</p>\n",
              "</div>"
            ],
            "text/plain": [
              "                 High        Low       Open      Close      Volume  Adj Close\n",
              "Date                                                                         \n",
              "2006-01-03  40.360001  39.299999  39.830002  40.189999  12838600.0  26.816757\n",
              "2006-01-04  40.139999  39.419998  39.779999  39.619999  13491500.0  26.661957\n",
              "2006-01-05  39.810001  39.500000  39.610001  39.740002   8109400.0  26.742729\n",
              "2006-01-06  40.240002  39.549999  39.919998  40.020000   7966900.0  26.931145\n",
              "2006-01-09  40.720001  39.880001  39.880001  40.669998  16575200.0  27.368553\n",
              "...               ...        ...        ...        ...         ...        ...\n",
              "2015-12-24  66.889999  66.320000  66.620003  66.599998   4468200.0  57.109337\n",
              "2015-12-28  66.449997  65.709999  66.290001  66.379997   6610600.0  56.920696\n",
              "2015-12-29  67.300003  66.739998  66.839996  67.070000   9820800.0  57.512379\n",
              "2015-12-30  67.050003  66.449997  67.040001  66.589996   7190700.0  57.100773\n",
              "2015-12-31  66.779999  66.000000  66.190002  66.029999  14654300.0  56.620583\n",
              "\n",
              "[2517 rows x 6 columns]"
            ]
          },
          "metadata": {
            "tags": []
          },
          "execution_count": 11
        }
      ]
    },
    {
      "cell_type": "code",
      "metadata": {
        "colab": {
          "base_uri": "https://localhost:8080/",
          "height": 431
        },
        "id": "RM-yuqurLLrt",
        "outputId": "fa30ede3-1629-4800-8883-35da09189fea"
      },
      "source": [
        "MS"
      ],
      "execution_count": 12,
      "outputs": [
        {
          "output_type": "execute_result",
          "data": {
            "text/html": [
              "<div>\n",
              "<style scoped>\n",
              "    .dataframe tbody tr th:only-of-type {\n",
              "        vertical-align: middle;\n",
              "    }\n",
              "\n",
              "    .dataframe tbody tr th {\n",
              "        vertical-align: top;\n",
              "    }\n",
              "\n",
              "    .dataframe thead th {\n",
              "        text-align: right;\n",
              "    }\n",
              "</style>\n",
              "<table border=\"1\" class=\"dataframe\">\n",
              "  <thead>\n",
              "    <tr style=\"text-align: right;\">\n",
              "      <th></th>\n",
              "      <th>High</th>\n",
              "      <th>Low</th>\n",
              "      <th>Open</th>\n",
              "      <th>Close</th>\n",
              "      <th>Volume</th>\n",
              "      <th>Adj Close</th>\n",
              "    </tr>\n",
              "    <tr>\n",
              "      <th>Date</th>\n",
              "      <th></th>\n",
              "      <th></th>\n",
              "      <th></th>\n",
              "      <th></th>\n",
              "      <th></th>\n",
              "      <th></th>\n",
              "    </tr>\n",
              "  </thead>\n",
              "  <tbody>\n",
              "    <tr>\n",
              "      <th>2006-01-03</th>\n",
              "      <td>58.490002</td>\n",
              "      <td>56.740002</td>\n",
              "      <td>57.169998</td>\n",
              "      <td>58.310001</td>\n",
              "      <td>5377000.0</td>\n",
              "      <td>36.631054</td>\n",
              "    </tr>\n",
              "    <tr>\n",
              "      <th>2006-01-04</th>\n",
              "      <td>59.279999</td>\n",
              "      <td>58.349998</td>\n",
              "      <td>58.700001</td>\n",
              "      <td>58.349998</td>\n",
              "      <td>7977800.0</td>\n",
              "      <td>36.656166</td>\n",
              "    </tr>\n",
              "    <tr>\n",
              "      <th>2006-01-05</th>\n",
              "      <td>58.590000</td>\n",
              "      <td>58.020000</td>\n",
              "      <td>58.549999</td>\n",
              "      <td>58.509998</td>\n",
              "      <td>5778000.0</td>\n",
              "      <td>36.756695</td>\n",
              "    </tr>\n",
              "    <tr>\n",
              "      <th>2006-01-06</th>\n",
              "      <td>58.849998</td>\n",
              "      <td>58.049999</td>\n",
              "      <td>58.770000</td>\n",
              "      <td>58.570000</td>\n",
              "      <td>6889800.0</td>\n",
              "      <td>36.794384</td>\n",
              "    </tr>\n",
              "    <tr>\n",
              "      <th>2006-01-09</th>\n",
              "      <td>59.290001</td>\n",
              "      <td>58.619999</td>\n",
              "      <td>58.630001</td>\n",
              "      <td>59.189999</td>\n",
              "      <td>4144500.0</td>\n",
              "      <td>37.183868</td>\n",
              "    </tr>\n",
              "    <tr>\n",
              "      <th>...</th>\n",
              "      <td>...</td>\n",
              "      <td>...</td>\n",
              "      <td>...</td>\n",
              "      <td>...</td>\n",
              "      <td>...</td>\n",
              "      <td>...</td>\n",
              "    </tr>\n",
              "    <tr>\n",
              "      <th>2015-12-24</th>\n",
              "      <td>32.709999</td>\n",
              "      <td>32.439999</td>\n",
              "      <td>32.570000</td>\n",
              "      <td>32.480000</td>\n",
              "      <td>2798200.0</td>\n",
              "      <td>28.434517</td>\n",
              "    </tr>\n",
              "    <tr>\n",
              "      <th>2015-12-28</th>\n",
              "      <td>32.360001</td>\n",
              "      <td>31.950001</td>\n",
              "      <td>32.360001</td>\n",
              "      <td>32.169998</td>\n",
              "      <td>5420300.0</td>\n",
              "      <td>28.163136</td>\n",
              "    </tr>\n",
              "    <tr>\n",
              "      <th>2015-12-29</th>\n",
              "      <td>32.700001</td>\n",
              "      <td>32.330002</td>\n",
              "      <td>32.439999</td>\n",
              "      <td>32.549999</td>\n",
              "      <td>6388200.0</td>\n",
              "      <td>28.495804</td>\n",
              "    </tr>\n",
              "    <tr>\n",
              "      <th>2015-12-30</th>\n",
              "      <td>32.650002</td>\n",
              "      <td>32.200001</td>\n",
              "      <td>32.500000</td>\n",
              "      <td>32.230000</td>\n",
              "      <td>5057200.0</td>\n",
              "      <td>28.215654</td>\n",
              "    </tr>\n",
              "    <tr>\n",
              "      <th>2015-12-31</th>\n",
              "      <td>32.299999</td>\n",
              "      <td>31.770000</td>\n",
              "      <td>31.910000</td>\n",
              "      <td>31.809999</td>\n",
              "      <td>8154300.0</td>\n",
              "      <td>27.847975</td>\n",
              "    </tr>\n",
              "  </tbody>\n",
              "</table>\n",
              "<p>2517 rows × 6 columns</p>\n",
              "</div>"
            ],
            "text/plain": [
              "                 High        Low       Open      Close     Volume  Adj Close\n",
              "Date                                                                        \n",
              "2006-01-03  58.490002  56.740002  57.169998  58.310001  5377000.0  36.631054\n",
              "2006-01-04  59.279999  58.349998  58.700001  58.349998  7977800.0  36.656166\n",
              "2006-01-05  58.590000  58.020000  58.549999  58.509998  5778000.0  36.756695\n",
              "2006-01-06  58.849998  58.049999  58.770000  58.570000  6889800.0  36.794384\n",
              "2006-01-09  59.290001  58.619999  58.630001  59.189999  4144500.0  37.183868\n",
              "...               ...        ...        ...        ...        ...        ...\n",
              "2015-12-24  32.709999  32.439999  32.570000  32.480000  2798200.0  28.434517\n",
              "2015-12-28  32.360001  31.950001  32.360001  32.169998  5420300.0  28.163136\n",
              "2015-12-29  32.700001  32.330002  32.439999  32.549999  6388200.0  28.495804\n",
              "2015-12-30  32.650002  32.200001  32.500000  32.230000  5057200.0  28.215654\n",
              "2015-12-31  32.299999  31.770000  31.910000  31.809999  8154300.0  27.847975\n",
              "\n",
              "[2517 rows x 6 columns]"
            ]
          },
          "metadata": {
            "tags": []
          },
          "execution_count": 12
        }
      ]
    },
    {
      "cell_type": "code",
      "metadata": {
        "colab": {
          "base_uri": "https://localhost:8080/",
          "height": 431
        },
        "id": "EBp94ZCSLMYz",
        "outputId": "4fac8178-d0d1-4409-9deb-89323bd6dffe"
      },
      "source": [
        "WF"
      ],
      "execution_count": 13,
      "outputs": [
        {
          "output_type": "execute_result",
          "data": {
            "text/html": [
              "<div>\n",
              "<style scoped>\n",
              "    .dataframe tbody tr th:only-of-type {\n",
              "        vertical-align: middle;\n",
              "    }\n",
              "\n",
              "    .dataframe tbody tr th {\n",
              "        vertical-align: top;\n",
              "    }\n",
              "\n",
              "    .dataframe thead th {\n",
              "        text-align: right;\n",
              "    }\n",
              "</style>\n",
              "<table border=\"1\" class=\"dataframe\">\n",
              "  <thead>\n",
              "    <tr style=\"text-align: right;\">\n",
              "      <th></th>\n",
              "      <th>High</th>\n",
              "      <th>Low</th>\n",
              "      <th>Open</th>\n",
              "      <th>Close</th>\n",
              "      <th>Volume</th>\n",
              "      <th>Adj Close</th>\n",
              "    </tr>\n",
              "    <tr>\n",
              "      <th>Date</th>\n",
              "      <th></th>\n",
              "      <th></th>\n",
              "      <th></th>\n",
              "      <th></th>\n",
              "      <th></th>\n",
              "      <th></th>\n",
              "    </tr>\n",
              "  </thead>\n",
              "  <tbody>\n",
              "    <tr>\n",
              "      <th>2006-01-03</th>\n",
              "      <td>73.766388</td>\n",
              "      <td>72.228844</td>\n",
              "      <td>72.705605</td>\n",
              "      <td>72.884384</td>\n",
              "      <td>23408.0</td>\n",
              "      <td>72.381088</td>\n",
              "    </tr>\n",
              "    <tr>\n",
              "      <th>2006-01-04</th>\n",
              "      <td>74.719902</td>\n",
              "      <td>72.884384</td>\n",
              "      <td>73.122765</td>\n",
              "      <td>74.016685</td>\n",
              "      <td>27268.0</td>\n",
              "      <td>73.505569</td>\n",
              "    </tr>\n",
              "    <tr>\n",
              "      <th>2006-01-05</th>\n",
              "      <td>73.420738</td>\n",
              "      <td>72.526817</td>\n",
              "      <td>73.003578</td>\n",
              "      <td>72.669846</td>\n",
              "      <td>11075.0</td>\n",
              "      <td>72.168030</td>\n",
              "    </tr>\n",
              "    <tr>\n",
              "      <th>2006-01-06</th>\n",
              "      <td>76.769966</td>\n",
              "      <td>73.897499</td>\n",
              "      <td>73.897499</td>\n",
              "      <td>75.744934</td>\n",
              "      <td>34819.0</td>\n",
              "      <td>75.221886</td>\n",
              "    </tr>\n",
              "    <tr>\n",
              "      <th>2006-01-09</th>\n",
              "      <td>75.268173</td>\n",
              "      <td>74.195473</td>\n",
              "      <td>74.493446</td>\n",
              "      <td>74.195473</td>\n",
              "      <td>30959.0</td>\n",
              "      <td>73.683121</td>\n",
              "    </tr>\n",
              "    <tr>\n",
              "      <th>...</th>\n",
              "      <td>...</td>\n",
              "      <td>...</td>\n",
              "      <td>...</td>\n",
              "      <td>...</td>\n",
              "      <td>...</td>\n",
              "      <td>...</td>\n",
              "    </tr>\n",
              "    <tr>\n",
              "      <th>2015-12-24</th>\n",
              "      <td>23.639999</td>\n",
              "      <td>23.450001</td>\n",
              "      <td>23.450001</td>\n",
              "      <td>23.639999</td>\n",
              "      <td>1400.0</td>\n",
              "      <td>23.639999</td>\n",
              "    </tr>\n",
              "    <tr>\n",
              "      <th>2015-12-28</th>\n",
              "      <td>23.670000</td>\n",
              "      <td>23.450001</td>\n",
              "      <td>23.510000</td>\n",
              "      <td>23.670000</td>\n",
              "      <td>1500.0</td>\n",
              "      <td>23.670000</td>\n",
              "    </tr>\n",
              "    <tr>\n",
              "      <th>2015-12-29</th>\n",
              "      <td>23.010000</td>\n",
              "      <td>22.879999</td>\n",
              "      <td>23.010000</td>\n",
              "      <td>22.940001</td>\n",
              "      <td>3000.0</td>\n",
              "      <td>22.940001</td>\n",
              "    </tr>\n",
              "    <tr>\n",
              "      <th>2015-12-30</th>\n",
              "      <td>22.590000</td>\n",
              "      <td>22.430000</td>\n",
              "      <td>22.590000</td>\n",
              "      <td>22.520000</td>\n",
              "      <td>2100.0</td>\n",
              "      <td>22.520000</td>\n",
              "    </tr>\n",
              "    <tr>\n",
              "      <th>2015-12-31</th>\n",
              "      <td>22.600000</td>\n",
              "      <td>22.430000</td>\n",
              "      <td>22.549999</td>\n",
              "      <td>22.600000</td>\n",
              "      <td>5900.0</td>\n",
              "      <td>22.600000</td>\n",
              "    </tr>\n",
              "  </tbody>\n",
              "</table>\n",
              "<p>2517 rows × 6 columns</p>\n",
              "</div>"
            ],
            "text/plain": [
              "                 High        Low       Open      Close   Volume  Adj Close\n",
              "Date                                                                      \n",
              "2006-01-03  73.766388  72.228844  72.705605  72.884384  23408.0  72.381088\n",
              "2006-01-04  74.719902  72.884384  73.122765  74.016685  27268.0  73.505569\n",
              "2006-01-05  73.420738  72.526817  73.003578  72.669846  11075.0  72.168030\n",
              "2006-01-06  76.769966  73.897499  73.897499  75.744934  34819.0  75.221886\n",
              "2006-01-09  75.268173  74.195473  74.493446  74.195473  30959.0  73.683121\n",
              "...               ...        ...        ...        ...      ...        ...\n",
              "2015-12-24  23.639999  23.450001  23.450001  23.639999   1400.0  23.639999\n",
              "2015-12-28  23.670000  23.450001  23.510000  23.670000   1500.0  23.670000\n",
              "2015-12-29  23.010000  22.879999  23.010000  22.940001   3000.0  22.940001\n",
              "2015-12-30  22.590000  22.430000  22.590000  22.520000   2100.0  22.520000\n",
              "2015-12-31  22.600000  22.430000  22.549999  22.600000   5900.0  22.600000\n",
              "\n",
              "[2517 rows x 6 columns]"
            ]
          },
          "metadata": {
            "tags": []
          },
          "execution_count": 13
        }
      ]
    },
    {
      "cell_type": "markdown",
      "metadata": {
        "id": "aRoK5ZecLdoB"
      },
      "source": [
        "##Creating a list of ticker symbols (as strings) in alphabetical order . call this list tickers"
      ]
    },
    {
      "cell_type": "code",
      "metadata": {
        "id": "DCxSR3N-LQ2I"
      },
      "source": [
        "tickers = ['BAC','C','GS','JPM','MS','WF']"
      ],
      "execution_count": 16,
      "outputs": []
    },
    {
      "cell_type": "markdown",
      "metadata": {
        "id": "A5ngABohL2uS"
      },
      "source": [
        "##Concatenating all the dataframes and creating a single data frame, and set keys argument equal to tickers list"
      ]
    },
    {
      "cell_type": "code",
      "metadata": {
        "id": "D75KakORL0pL"
      },
      "source": [
        "bank_stocks = pd.concat([BAC,C,GS,JPM,MS,WF],axis = 1,keys=tickers)"
      ],
      "execution_count": 17,
      "outputs": []
    },
    {
      "cell_type": "code",
      "metadata": {
        "colab": {
          "base_uri": "https://localhost:8080/",
          "height": 375
        },
        "id": "BwrXr15dOZcY",
        "outputId": "3b583270-605b-45a0-cb97-bb9a560ac2d3"
      },
      "source": [
        "bank_stocks.head()"
      ],
      "execution_count": 18,
      "outputs": [
        {
          "output_type": "execute_result",
          "data": {
            "text/html": [
              "<div>\n",
              "<style scoped>\n",
              "    .dataframe tbody tr th:only-of-type {\n",
              "        vertical-align: middle;\n",
              "    }\n",
              "\n",
              "    .dataframe tbody tr th {\n",
              "        vertical-align: top;\n",
              "    }\n",
              "\n",
              "    .dataframe thead tr th {\n",
              "        text-align: left;\n",
              "    }\n",
              "\n",
              "    .dataframe thead tr:last-of-type th {\n",
              "        text-align: right;\n",
              "    }\n",
              "</style>\n",
              "<table border=\"1\" class=\"dataframe\">\n",
              "  <thead>\n",
              "    <tr>\n",
              "      <th></th>\n",
              "      <th colspan=\"6\" halign=\"left\">BAC</th>\n",
              "      <th colspan=\"6\" halign=\"left\">C</th>\n",
              "      <th colspan=\"6\" halign=\"left\">GS</th>\n",
              "      <th colspan=\"6\" halign=\"left\">JPM</th>\n",
              "      <th colspan=\"6\" halign=\"left\">MS</th>\n",
              "      <th colspan=\"6\" halign=\"left\">WF</th>\n",
              "    </tr>\n",
              "    <tr>\n",
              "      <th></th>\n",
              "      <th>High</th>\n",
              "      <th>Low</th>\n",
              "      <th>Open</th>\n",
              "      <th>Close</th>\n",
              "      <th>Volume</th>\n",
              "      <th>Adj Close</th>\n",
              "      <th>High</th>\n",
              "      <th>Low</th>\n",
              "      <th>Open</th>\n",
              "      <th>Close</th>\n",
              "      <th>Volume</th>\n",
              "      <th>Adj Close</th>\n",
              "      <th>High</th>\n",
              "      <th>Low</th>\n",
              "      <th>Open</th>\n",
              "      <th>Close</th>\n",
              "      <th>Volume</th>\n",
              "      <th>Adj Close</th>\n",
              "      <th>High</th>\n",
              "      <th>Low</th>\n",
              "      <th>Open</th>\n",
              "      <th>Close</th>\n",
              "      <th>Volume</th>\n",
              "      <th>Adj Close</th>\n",
              "      <th>High</th>\n",
              "      <th>Low</th>\n",
              "      <th>Open</th>\n",
              "      <th>Close</th>\n",
              "      <th>Volume</th>\n",
              "      <th>Adj Close</th>\n",
              "      <th>High</th>\n",
              "      <th>Low</th>\n",
              "      <th>Open</th>\n",
              "      <th>Close</th>\n",
              "      <th>Volume</th>\n",
              "      <th>Adj Close</th>\n",
              "    </tr>\n",
              "    <tr>\n",
              "      <th>Date</th>\n",
              "      <th></th>\n",
              "      <th></th>\n",
              "      <th></th>\n",
              "      <th></th>\n",
              "      <th></th>\n",
              "      <th></th>\n",
              "      <th></th>\n",
              "      <th></th>\n",
              "      <th></th>\n",
              "      <th></th>\n",
              "      <th></th>\n",
              "      <th></th>\n",
              "      <th></th>\n",
              "      <th></th>\n",
              "      <th></th>\n",
              "      <th></th>\n",
              "      <th></th>\n",
              "      <th></th>\n",
              "      <th></th>\n",
              "      <th></th>\n",
              "      <th></th>\n",
              "      <th></th>\n",
              "      <th></th>\n",
              "      <th></th>\n",
              "      <th></th>\n",
              "      <th></th>\n",
              "      <th></th>\n",
              "      <th></th>\n",
              "      <th></th>\n",
              "      <th></th>\n",
              "      <th></th>\n",
              "      <th></th>\n",
              "      <th></th>\n",
              "      <th></th>\n",
              "      <th></th>\n",
              "      <th></th>\n",
              "    </tr>\n",
              "  </thead>\n",
              "  <tbody>\n",
              "    <tr>\n",
              "      <th>2006-01-03</th>\n",
              "      <td>47.180000</td>\n",
              "      <td>46.150002</td>\n",
              "      <td>46.919998</td>\n",
              "      <td>47.080002</td>\n",
              "      <td>16296700.0</td>\n",
              "      <td>34.425114</td>\n",
              "      <td>47.180000</td>\n",
              "      <td>46.150002</td>\n",
              "      <td>46.919998</td>\n",
              "      <td>47.080002</td>\n",
              "      <td>16296700.0</td>\n",
              "      <td>34.425114</td>\n",
              "      <td>129.440002</td>\n",
              "      <td>124.230003</td>\n",
              "      <td>126.699997</td>\n",
              "      <td>128.869995</td>\n",
              "      <td>6188700.0</td>\n",
              "      <td>105.273788</td>\n",
              "      <td>40.360001</td>\n",
              "      <td>39.299999</td>\n",
              "      <td>39.830002</td>\n",
              "      <td>40.189999</td>\n",
              "      <td>12838600.0</td>\n",
              "      <td>26.816757</td>\n",
              "      <td>58.490002</td>\n",
              "      <td>56.740002</td>\n",
              "      <td>57.169998</td>\n",
              "      <td>58.310001</td>\n",
              "      <td>5377000.0</td>\n",
              "      <td>36.631054</td>\n",
              "      <td>73.766388</td>\n",
              "      <td>72.228844</td>\n",
              "      <td>72.705605</td>\n",
              "      <td>72.884384</td>\n",
              "      <td>23408.0</td>\n",
              "      <td>72.381088</td>\n",
              "    </tr>\n",
              "    <tr>\n",
              "      <th>2006-01-04</th>\n",
              "      <td>47.240002</td>\n",
              "      <td>46.450001</td>\n",
              "      <td>47.000000</td>\n",
              "      <td>46.580002</td>\n",
              "      <td>17757900.0</td>\n",
              "      <td>34.059509</td>\n",
              "      <td>47.240002</td>\n",
              "      <td>46.450001</td>\n",
              "      <td>47.000000</td>\n",
              "      <td>46.580002</td>\n",
              "      <td>17757900.0</td>\n",
              "      <td>34.059509</td>\n",
              "      <td>128.910004</td>\n",
              "      <td>126.379997</td>\n",
              "      <td>127.349998</td>\n",
              "      <td>127.089996</td>\n",
              "      <td>4861600.0</td>\n",
              "      <td>103.819702</td>\n",
              "      <td>40.139999</td>\n",
              "      <td>39.419998</td>\n",
              "      <td>39.779999</td>\n",
              "      <td>39.619999</td>\n",
              "      <td>13491500.0</td>\n",
              "      <td>26.661957</td>\n",
              "      <td>59.279999</td>\n",
              "      <td>58.349998</td>\n",
              "      <td>58.700001</td>\n",
              "      <td>58.349998</td>\n",
              "      <td>7977800.0</td>\n",
              "      <td>36.656166</td>\n",
              "      <td>74.719902</td>\n",
              "      <td>72.884384</td>\n",
              "      <td>73.122765</td>\n",
              "      <td>74.016685</td>\n",
              "      <td>27268.0</td>\n",
              "      <td>73.505569</td>\n",
              "    </tr>\n",
              "    <tr>\n",
              "      <th>2006-01-05</th>\n",
              "      <td>46.830002</td>\n",
              "      <td>46.320000</td>\n",
              "      <td>46.580002</td>\n",
              "      <td>46.639999</td>\n",
              "      <td>14970700.0</td>\n",
              "      <td>34.103382</td>\n",
              "      <td>46.830002</td>\n",
              "      <td>46.320000</td>\n",
              "      <td>46.580002</td>\n",
              "      <td>46.639999</td>\n",
              "      <td>14970700.0</td>\n",
              "      <td>34.103382</td>\n",
              "      <td>127.320000</td>\n",
              "      <td>125.610001</td>\n",
              "      <td>126.000000</td>\n",
              "      <td>127.040001</td>\n",
              "      <td>3717400.0</td>\n",
              "      <td>103.778839</td>\n",
              "      <td>39.810001</td>\n",
              "      <td>39.500000</td>\n",
              "      <td>39.610001</td>\n",
              "      <td>39.740002</td>\n",
              "      <td>8109400.0</td>\n",
              "      <td>26.742729</td>\n",
              "      <td>58.590000</td>\n",
              "      <td>58.020000</td>\n",
              "      <td>58.549999</td>\n",
              "      <td>58.509998</td>\n",
              "      <td>5778000.0</td>\n",
              "      <td>36.756695</td>\n",
              "      <td>73.420738</td>\n",
              "      <td>72.526817</td>\n",
              "      <td>73.003578</td>\n",
              "      <td>72.669846</td>\n",
              "      <td>11075.0</td>\n",
              "      <td>72.168030</td>\n",
              "    </tr>\n",
              "    <tr>\n",
              "      <th>2006-01-06</th>\n",
              "      <td>46.910000</td>\n",
              "      <td>46.349998</td>\n",
              "      <td>46.799999</td>\n",
              "      <td>46.570000</td>\n",
              "      <td>12599800.0</td>\n",
              "      <td>34.052204</td>\n",
              "      <td>46.910000</td>\n",
              "      <td>46.349998</td>\n",
              "      <td>46.799999</td>\n",
              "      <td>46.570000</td>\n",
              "      <td>12599800.0</td>\n",
              "      <td>34.052204</td>\n",
              "      <td>129.250000</td>\n",
              "      <td>127.290001</td>\n",
              "      <td>127.290001</td>\n",
              "      <td>128.839996</td>\n",
              "      <td>4319600.0</td>\n",
              "      <td>105.249245</td>\n",
              "      <td>40.240002</td>\n",
              "      <td>39.549999</td>\n",
              "      <td>39.919998</td>\n",
              "      <td>40.020000</td>\n",
              "      <td>7966900.0</td>\n",
              "      <td>26.931145</td>\n",
              "      <td>58.849998</td>\n",
              "      <td>58.049999</td>\n",
              "      <td>58.770000</td>\n",
              "      <td>58.570000</td>\n",
              "      <td>6889800.0</td>\n",
              "      <td>36.794384</td>\n",
              "      <td>76.769966</td>\n",
              "      <td>73.897499</td>\n",
              "      <td>73.897499</td>\n",
              "      <td>75.744934</td>\n",
              "      <td>34819.0</td>\n",
              "      <td>75.221886</td>\n",
              "    </tr>\n",
              "    <tr>\n",
              "      <th>2006-01-09</th>\n",
              "      <td>46.970001</td>\n",
              "      <td>46.360001</td>\n",
              "      <td>46.720001</td>\n",
              "      <td>46.599998</td>\n",
              "      <td>15619400.0</td>\n",
              "      <td>34.074108</td>\n",
              "      <td>46.970001</td>\n",
              "      <td>46.360001</td>\n",
              "      <td>46.720001</td>\n",
              "      <td>46.599998</td>\n",
              "      <td>15619400.0</td>\n",
              "      <td>34.074108</td>\n",
              "      <td>130.619995</td>\n",
              "      <td>128.000000</td>\n",
              "      <td>128.500000</td>\n",
              "      <td>130.389999</td>\n",
              "      <td>4723500.0</td>\n",
              "      <td>106.515495</td>\n",
              "      <td>40.720001</td>\n",
              "      <td>39.880001</td>\n",
              "      <td>39.880001</td>\n",
              "      <td>40.669998</td>\n",
              "      <td>16575200.0</td>\n",
              "      <td>27.368553</td>\n",
              "      <td>59.290001</td>\n",
              "      <td>58.619999</td>\n",
              "      <td>58.630001</td>\n",
              "      <td>59.189999</td>\n",
              "      <td>4144500.0</td>\n",
              "      <td>37.183868</td>\n",
              "      <td>75.268173</td>\n",
              "      <td>74.195473</td>\n",
              "      <td>74.493446</td>\n",
              "      <td>74.195473</td>\n",
              "      <td>30959.0</td>\n",
              "      <td>73.683121</td>\n",
              "    </tr>\n",
              "  </tbody>\n",
              "</table>\n",
              "</div>"
            ],
            "text/plain": [
              "                  BAC                        ...         WF                    \n",
              "                 High        Low       Open  ...      Close   Volume  Adj Close\n",
              "Date                                         ...                               \n",
              "2006-01-03  47.180000  46.150002  46.919998  ...  72.884384  23408.0  72.381088\n",
              "2006-01-04  47.240002  46.450001  47.000000  ...  74.016685  27268.0  73.505569\n",
              "2006-01-05  46.830002  46.320000  46.580002  ...  72.669846  11075.0  72.168030\n",
              "2006-01-06  46.910000  46.349998  46.799999  ...  75.744934  34819.0  75.221886\n",
              "2006-01-09  46.970001  46.360001  46.720001  ...  74.195473  30959.0  73.683121\n",
              "\n",
              "[5 rows x 36 columns]"
            ]
          },
          "metadata": {
            "tags": []
          },
          "execution_count": 18
        }
      ]
    },
    {
      "cell_type": "code",
      "metadata": {
        "id": "SPC-jZLtOrO3"
      },
      "source": [
        "bank_stocks.columns.names = ['Bank Ticker','Stock Info']"
      ],
      "execution_count": 19,
      "outputs": []
    },
    {
      "cell_type": "code",
      "metadata": {
        "colab": {
          "base_uri": "https://localhost:8080/",
          "height": 392
        },
        "id": "K8bqlnlvO9sm",
        "outputId": "b1865c28-6170-42d9-c034-0dd19041e9e0"
      },
      "source": [
        "bank_stocks.head()"
      ],
      "execution_count": 20,
      "outputs": [
        {
          "output_type": "execute_result",
          "data": {
            "text/html": [
              "<div>\n",
              "<style scoped>\n",
              "    .dataframe tbody tr th:only-of-type {\n",
              "        vertical-align: middle;\n",
              "    }\n",
              "\n",
              "    .dataframe tbody tr th {\n",
              "        vertical-align: top;\n",
              "    }\n",
              "\n",
              "    .dataframe thead tr th {\n",
              "        text-align: left;\n",
              "    }\n",
              "\n",
              "    .dataframe thead tr:last-of-type th {\n",
              "        text-align: right;\n",
              "    }\n",
              "</style>\n",
              "<table border=\"1\" class=\"dataframe\">\n",
              "  <thead>\n",
              "    <tr>\n",
              "      <th>Bank Ticker</th>\n",
              "      <th colspan=\"6\" halign=\"left\">BAC</th>\n",
              "      <th colspan=\"6\" halign=\"left\">C</th>\n",
              "      <th colspan=\"6\" halign=\"left\">GS</th>\n",
              "      <th colspan=\"6\" halign=\"left\">JPM</th>\n",
              "      <th colspan=\"6\" halign=\"left\">MS</th>\n",
              "      <th colspan=\"6\" halign=\"left\">WF</th>\n",
              "    </tr>\n",
              "    <tr>\n",
              "      <th>Stock Info</th>\n",
              "      <th>High</th>\n",
              "      <th>Low</th>\n",
              "      <th>Open</th>\n",
              "      <th>Close</th>\n",
              "      <th>Volume</th>\n",
              "      <th>Adj Close</th>\n",
              "      <th>High</th>\n",
              "      <th>Low</th>\n",
              "      <th>Open</th>\n",
              "      <th>Close</th>\n",
              "      <th>Volume</th>\n",
              "      <th>Adj Close</th>\n",
              "      <th>High</th>\n",
              "      <th>Low</th>\n",
              "      <th>Open</th>\n",
              "      <th>Close</th>\n",
              "      <th>Volume</th>\n",
              "      <th>Adj Close</th>\n",
              "      <th>High</th>\n",
              "      <th>Low</th>\n",
              "      <th>Open</th>\n",
              "      <th>Close</th>\n",
              "      <th>Volume</th>\n",
              "      <th>Adj Close</th>\n",
              "      <th>High</th>\n",
              "      <th>Low</th>\n",
              "      <th>Open</th>\n",
              "      <th>Close</th>\n",
              "      <th>Volume</th>\n",
              "      <th>Adj Close</th>\n",
              "      <th>High</th>\n",
              "      <th>Low</th>\n",
              "      <th>Open</th>\n",
              "      <th>Close</th>\n",
              "      <th>Volume</th>\n",
              "      <th>Adj Close</th>\n",
              "    </tr>\n",
              "    <tr>\n",
              "      <th>Date</th>\n",
              "      <th></th>\n",
              "      <th></th>\n",
              "      <th></th>\n",
              "      <th></th>\n",
              "      <th></th>\n",
              "      <th></th>\n",
              "      <th></th>\n",
              "      <th></th>\n",
              "      <th></th>\n",
              "      <th></th>\n",
              "      <th></th>\n",
              "      <th></th>\n",
              "      <th></th>\n",
              "      <th></th>\n",
              "      <th></th>\n",
              "      <th></th>\n",
              "      <th></th>\n",
              "      <th></th>\n",
              "      <th></th>\n",
              "      <th></th>\n",
              "      <th></th>\n",
              "      <th></th>\n",
              "      <th></th>\n",
              "      <th></th>\n",
              "      <th></th>\n",
              "      <th></th>\n",
              "      <th></th>\n",
              "      <th></th>\n",
              "      <th></th>\n",
              "      <th></th>\n",
              "      <th></th>\n",
              "      <th></th>\n",
              "      <th></th>\n",
              "      <th></th>\n",
              "      <th></th>\n",
              "      <th></th>\n",
              "    </tr>\n",
              "  </thead>\n",
              "  <tbody>\n",
              "    <tr>\n",
              "      <th>2006-01-03</th>\n",
              "      <td>47.180000</td>\n",
              "      <td>46.150002</td>\n",
              "      <td>46.919998</td>\n",
              "      <td>47.080002</td>\n",
              "      <td>16296700.0</td>\n",
              "      <td>34.425114</td>\n",
              "      <td>47.180000</td>\n",
              "      <td>46.150002</td>\n",
              "      <td>46.919998</td>\n",
              "      <td>47.080002</td>\n",
              "      <td>16296700.0</td>\n",
              "      <td>34.425114</td>\n",
              "      <td>129.440002</td>\n",
              "      <td>124.230003</td>\n",
              "      <td>126.699997</td>\n",
              "      <td>128.869995</td>\n",
              "      <td>6188700.0</td>\n",
              "      <td>105.273788</td>\n",
              "      <td>40.360001</td>\n",
              "      <td>39.299999</td>\n",
              "      <td>39.830002</td>\n",
              "      <td>40.189999</td>\n",
              "      <td>12838600.0</td>\n",
              "      <td>26.816757</td>\n",
              "      <td>58.490002</td>\n",
              "      <td>56.740002</td>\n",
              "      <td>57.169998</td>\n",
              "      <td>58.310001</td>\n",
              "      <td>5377000.0</td>\n",
              "      <td>36.631054</td>\n",
              "      <td>73.766388</td>\n",
              "      <td>72.228844</td>\n",
              "      <td>72.705605</td>\n",
              "      <td>72.884384</td>\n",
              "      <td>23408.0</td>\n",
              "      <td>72.381088</td>\n",
              "    </tr>\n",
              "    <tr>\n",
              "      <th>2006-01-04</th>\n",
              "      <td>47.240002</td>\n",
              "      <td>46.450001</td>\n",
              "      <td>47.000000</td>\n",
              "      <td>46.580002</td>\n",
              "      <td>17757900.0</td>\n",
              "      <td>34.059509</td>\n",
              "      <td>47.240002</td>\n",
              "      <td>46.450001</td>\n",
              "      <td>47.000000</td>\n",
              "      <td>46.580002</td>\n",
              "      <td>17757900.0</td>\n",
              "      <td>34.059509</td>\n",
              "      <td>128.910004</td>\n",
              "      <td>126.379997</td>\n",
              "      <td>127.349998</td>\n",
              "      <td>127.089996</td>\n",
              "      <td>4861600.0</td>\n",
              "      <td>103.819702</td>\n",
              "      <td>40.139999</td>\n",
              "      <td>39.419998</td>\n",
              "      <td>39.779999</td>\n",
              "      <td>39.619999</td>\n",
              "      <td>13491500.0</td>\n",
              "      <td>26.661957</td>\n",
              "      <td>59.279999</td>\n",
              "      <td>58.349998</td>\n",
              "      <td>58.700001</td>\n",
              "      <td>58.349998</td>\n",
              "      <td>7977800.0</td>\n",
              "      <td>36.656166</td>\n",
              "      <td>74.719902</td>\n",
              "      <td>72.884384</td>\n",
              "      <td>73.122765</td>\n",
              "      <td>74.016685</td>\n",
              "      <td>27268.0</td>\n",
              "      <td>73.505569</td>\n",
              "    </tr>\n",
              "    <tr>\n",
              "      <th>2006-01-05</th>\n",
              "      <td>46.830002</td>\n",
              "      <td>46.320000</td>\n",
              "      <td>46.580002</td>\n",
              "      <td>46.639999</td>\n",
              "      <td>14970700.0</td>\n",
              "      <td>34.103382</td>\n",
              "      <td>46.830002</td>\n",
              "      <td>46.320000</td>\n",
              "      <td>46.580002</td>\n",
              "      <td>46.639999</td>\n",
              "      <td>14970700.0</td>\n",
              "      <td>34.103382</td>\n",
              "      <td>127.320000</td>\n",
              "      <td>125.610001</td>\n",
              "      <td>126.000000</td>\n",
              "      <td>127.040001</td>\n",
              "      <td>3717400.0</td>\n",
              "      <td>103.778839</td>\n",
              "      <td>39.810001</td>\n",
              "      <td>39.500000</td>\n",
              "      <td>39.610001</td>\n",
              "      <td>39.740002</td>\n",
              "      <td>8109400.0</td>\n",
              "      <td>26.742729</td>\n",
              "      <td>58.590000</td>\n",
              "      <td>58.020000</td>\n",
              "      <td>58.549999</td>\n",
              "      <td>58.509998</td>\n",
              "      <td>5778000.0</td>\n",
              "      <td>36.756695</td>\n",
              "      <td>73.420738</td>\n",
              "      <td>72.526817</td>\n",
              "      <td>73.003578</td>\n",
              "      <td>72.669846</td>\n",
              "      <td>11075.0</td>\n",
              "      <td>72.168030</td>\n",
              "    </tr>\n",
              "    <tr>\n",
              "      <th>2006-01-06</th>\n",
              "      <td>46.910000</td>\n",
              "      <td>46.349998</td>\n",
              "      <td>46.799999</td>\n",
              "      <td>46.570000</td>\n",
              "      <td>12599800.0</td>\n",
              "      <td>34.052204</td>\n",
              "      <td>46.910000</td>\n",
              "      <td>46.349998</td>\n",
              "      <td>46.799999</td>\n",
              "      <td>46.570000</td>\n",
              "      <td>12599800.0</td>\n",
              "      <td>34.052204</td>\n",
              "      <td>129.250000</td>\n",
              "      <td>127.290001</td>\n",
              "      <td>127.290001</td>\n",
              "      <td>128.839996</td>\n",
              "      <td>4319600.0</td>\n",
              "      <td>105.249245</td>\n",
              "      <td>40.240002</td>\n",
              "      <td>39.549999</td>\n",
              "      <td>39.919998</td>\n",
              "      <td>40.020000</td>\n",
              "      <td>7966900.0</td>\n",
              "      <td>26.931145</td>\n",
              "      <td>58.849998</td>\n",
              "      <td>58.049999</td>\n",
              "      <td>58.770000</td>\n",
              "      <td>58.570000</td>\n",
              "      <td>6889800.0</td>\n",
              "      <td>36.794384</td>\n",
              "      <td>76.769966</td>\n",
              "      <td>73.897499</td>\n",
              "      <td>73.897499</td>\n",
              "      <td>75.744934</td>\n",
              "      <td>34819.0</td>\n",
              "      <td>75.221886</td>\n",
              "    </tr>\n",
              "    <tr>\n",
              "      <th>2006-01-09</th>\n",
              "      <td>46.970001</td>\n",
              "      <td>46.360001</td>\n",
              "      <td>46.720001</td>\n",
              "      <td>46.599998</td>\n",
              "      <td>15619400.0</td>\n",
              "      <td>34.074108</td>\n",
              "      <td>46.970001</td>\n",
              "      <td>46.360001</td>\n",
              "      <td>46.720001</td>\n",
              "      <td>46.599998</td>\n",
              "      <td>15619400.0</td>\n",
              "      <td>34.074108</td>\n",
              "      <td>130.619995</td>\n",
              "      <td>128.000000</td>\n",
              "      <td>128.500000</td>\n",
              "      <td>130.389999</td>\n",
              "      <td>4723500.0</td>\n",
              "      <td>106.515495</td>\n",
              "      <td>40.720001</td>\n",
              "      <td>39.880001</td>\n",
              "      <td>39.880001</td>\n",
              "      <td>40.669998</td>\n",
              "      <td>16575200.0</td>\n",
              "      <td>27.368553</td>\n",
              "      <td>59.290001</td>\n",
              "      <td>58.619999</td>\n",
              "      <td>58.630001</td>\n",
              "      <td>59.189999</td>\n",
              "      <td>4144500.0</td>\n",
              "      <td>37.183868</td>\n",
              "      <td>75.268173</td>\n",
              "      <td>74.195473</td>\n",
              "      <td>74.493446</td>\n",
              "      <td>74.195473</td>\n",
              "      <td>30959.0</td>\n",
              "      <td>73.683121</td>\n",
              "    </tr>\n",
              "  </tbody>\n",
              "</table>\n",
              "</div>"
            ],
            "text/plain": [
              "Bank Ticker        BAC                        ...         WF                    \n",
              "Stock Info        High        Low       Open  ...      Close   Volume  Adj Close\n",
              "Date                                          ...                               \n",
              "2006-01-03   47.180000  46.150002  46.919998  ...  72.884384  23408.0  72.381088\n",
              "2006-01-04   47.240002  46.450001  47.000000  ...  74.016685  27268.0  73.505569\n",
              "2006-01-05   46.830002  46.320000  46.580002  ...  72.669846  11075.0  72.168030\n",
              "2006-01-06   46.910000  46.349998  46.799999  ...  75.744934  34819.0  75.221886\n",
              "2006-01-09   46.970001  46.360001  46.720001  ...  74.195473  30959.0  73.683121\n",
              "\n",
              "[5 rows x 36 columns]"
            ]
          },
          "metadata": {
            "tags": []
          },
          "execution_count": 20
        }
      ]
    },
    {
      "cell_type": "markdown",
      "metadata": {
        "id": "4iEbcGK3PLDM"
      },
      "source": [
        "##**EDA**"
      ]
    },
    {
      "cell_type": "markdown",
      "metadata": {
        "id": "tGWsFHaGPW0K"
      },
      "source": [
        "##Max close price for each bank's stock throughout the time period?"
      ]
    },
    {
      "cell_type": "code",
      "metadata": {
        "colab": {
          "base_uri": "https://localhost:8080/"
        },
        "id": "fOZY2h9wPDgP",
        "outputId": "3ffd6210-ee55-4b2e-e376-9419550eec83"
      },
      "source": [
        "for tick in tickers:\n",
        "  print(tick,bank_stocks[tick]['Close'].max())"
      ],
      "execution_count": 21,
      "outputs": [
        {
          "output_type": "stream",
          "text": [
            "BAC 54.900001525878906\n",
            "C 54.900001525878906\n",
            "GS 247.9199981689453\n",
            "JPM 70.08000183105469\n",
            "MS 89.30000305175781\n",
            "WF 99.86888885498047\n"
          ],
          "name": "stdout"
        }
      ]
    },
    {
      "cell_type": "markdown",
      "metadata": {
        "id": "NkIKaFXeP_kr"
      },
      "source": [
        "##Another method for above query"
      ]
    },
    {
      "cell_type": "code",
      "metadata": {
        "colab": {
          "base_uri": "https://localhost:8080/"
        },
        "id": "p3uyqRKKP6-I",
        "outputId": "7fb52e37-0f2d-4c1a-b609-e5cc6e1180da"
      },
      "source": [
        "bank_stocks.xs(key='Close',axis = 1, level ='Stock Info').max()"
      ],
      "execution_count": 23,
      "outputs": [
        {
          "output_type": "execute_result",
          "data": {
            "text/plain": [
              "Bank Ticker\n",
              "BAC     54.900002\n",
              "C       54.900002\n",
              "GS     247.919998\n",
              "JPM     70.080002\n",
              "MS      89.300003\n",
              "WF      99.868889\n",
              "dtype: float64"
            ]
          },
          "metadata": {
            "tags": []
          },
          "execution_count": 23
        }
      ]
    },
    {
      "cell_type": "markdown",
      "metadata": {
        "id": "x3-D0-VQQmYE"
      },
      "source": [
        "##Creating a new empty DataFrame called returns . This dataframe will contain the returns for each bank's stock . returns are typically defined by rt=(pt-p(t-1))/p(t-1) = pt/p(t-1) -1"
      ]
    },
    {
      "cell_type": "code",
      "metadata": {
        "id": "e_wV06afQeAM"
      },
      "source": [
        "returns = pd.DataFrame()"
      ],
      "execution_count": 38,
      "outputs": []
    },
    {
      "cell_type": "markdown",
      "metadata": {
        "id": "YWzWSja-RU0l"
      },
      "source": [
        "##We will use pandas pct_change() method on the close column to create a column representing this return value."
      ]
    },
    {
      "cell_type": "code",
      "metadata": {
        "id": "ZD0GhnrURSJg"
      },
      "source": [
        "for tick in tickers:\n",
        "  returns[tick +' Return'] = bank_stocks[tick]['Close'].pct_change()"
      ],
      "execution_count": 39,
      "outputs": []
    },
    {
      "cell_type": "code",
      "metadata": {
        "colab": {
          "base_uri": "https://localhost:8080/",
          "height": 225
        },
        "id": "_GeidtajSLt9",
        "outputId": "ad1438e8-b7ea-4932-e02f-62fb20eef6be"
      },
      "source": [
        "returns.head()"
      ],
      "execution_count": 40,
      "outputs": [
        {
          "output_type": "execute_result",
          "data": {
            "text/html": [
              "<div>\n",
              "<style scoped>\n",
              "    .dataframe tbody tr th:only-of-type {\n",
              "        vertical-align: middle;\n",
              "    }\n",
              "\n",
              "    .dataframe tbody tr th {\n",
              "        vertical-align: top;\n",
              "    }\n",
              "\n",
              "    .dataframe thead th {\n",
              "        text-align: right;\n",
              "    }\n",
              "</style>\n",
              "<table border=\"1\" class=\"dataframe\">\n",
              "  <thead>\n",
              "    <tr style=\"text-align: right;\">\n",
              "      <th></th>\n",
              "      <th>BAC Return</th>\n",
              "      <th>C Return</th>\n",
              "      <th>GS Return</th>\n",
              "      <th>JPM Return</th>\n",
              "      <th>MS Return</th>\n",
              "      <th>WF Return</th>\n",
              "    </tr>\n",
              "    <tr>\n",
              "      <th>Date</th>\n",
              "      <th></th>\n",
              "      <th></th>\n",
              "      <th></th>\n",
              "      <th></th>\n",
              "      <th></th>\n",
              "      <th></th>\n",
              "    </tr>\n",
              "  </thead>\n",
              "  <tbody>\n",
              "    <tr>\n",
              "      <th>2006-01-03</th>\n",
              "      <td>NaN</td>\n",
              "      <td>NaN</td>\n",
              "      <td>NaN</td>\n",
              "      <td>NaN</td>\n",
              "      <td>NaN</td>\n",
              "      <td>NaN</td>\n",
              "    </tr>\n",
              "    <tr>\n",
              "      <th>2006-01-04</th>\n",
              "      <td>-0.010620</td>\n",
              "      <td>-0.010620</td>\n",
              "      <td>-0.013812</td>\n",
              "      <td>-0.014183</td>\n",
              "      <td>0.000686</td>\n",
              "      <td>0.015536</td>\n",
              "    </tr>\n",
              "    <tr>\n",
              "      <th>2006-01-05</th>\n",
              "      <td>0.001288</td>\n",
              "      <td>0.001288</td>\n",
              "      <td>-0.000393</td>\n",
              "      <td>0.003029</td>\n",
              "      <td>0.002742</td>\n",
              "      <td>-0.018196</td>\n",
              "    </tr>\n",
              "    <tr>\n",
              "      <th>2006-01-06</th>\n",
              "      <td>-0.001501</td>\n",
              "      <td>-0.001501</td>\n",
              "      <td>0.014169</td>\n",
              "      <td>0.007046</td>\n",
              "      <td>0.001025</td>\n",
              "      <td>0.042316</td>\n",
              "    </tr>\n",
              "    <tr>\n",
              "      <th>2006-01-09</th>\n",
              "      <td>0.000644</td>\n",
              "      <td>0.000644</td>\n",
              "      <td>0.012030</td>\n",
              "      <td>0.016242</td>\n",
              "      <td>0.010586</td>\n",
              "      <td>-0.020456</td>\n",
              "    </tr>\n",
              "  </tbody>\n",
              "</table>\n",
              "</div>"
            ],
            "text/plain": [
              "            BAC Return  C Return  GS Return  JPM Return  MS Return  WF Return\n",
              "Date                                                                         \n",
              "2006-01-03         NaN       NaN        NaN         NaN        NaN        NaN\n",
              "2006-01-04   -0.010620 -0.010620  -0.013812   -0.014183   0.000686   0.015536\n",
              "2006-01-05    0.001288  0.001288  -0.000393    0.003029   0.002742  -0.018196\n",
              "2006-01-06   -0.001501 -0.001501   0.014169    0.007046   0.001025   0.042316\n",
              "2006-01-09    0.000644  0.000644   0.012030    0.016242   0.010586  -0.020456"
            ]
          },
          "metadata": {
            "tags": []
          },
          "execution_count": 40
        }
      ]
    },
    {
      "cell_type": "markdown",
      "metadata": {
        "id": "oF012qJGSkTN"
      },
      "source": [
        "##Creating a pairplot using seaborn of the returns dataframe . What stock stands out to us?"
      ]
    },
    {
      "cell_type": "code",
      "metadata": {
        "id": "8ymwPQhiTHim"
      },
      "source": [
        "import seaborn as sns\n",
        "%matplotlib inline"
      ],
      "execution_count": 41,
      "outputs": []
    },
    {
      "cell_type": "code",
      "metadata": {
        "colab": {
          "base_uri": "https://localhost:8080/",
          "height": 727
        },
        "id": "vLDKdaIYSOFn",
        "outputId": "3c698d9b-c4de-4be8-939e-4991fc7e3870"
      },
      "source": [
        "sns.pairplot(returns[1:])"
      ],
      "execution_count": 42,
      "outputs": [
        {
          "output_type": "execute_result",
          "data": {
            "text/plain": [
              "<seaborn.axisgrid.PairGrid at 0x7f968497e510>"
            ]
          },
          "metadata": {
            "tags": []
          },
          "execution_count": 42
        },
        {
          "output_type": "display_data",
          "data": {
            "image/png": "[encoded data removed]",
            "text/plain": [
              "<Figure size 1080x1080 with 42 Axes>"
            ]
          },
          "metadata": {
            "tags": [],
            "needs_background": "light"
          }
        }
      ]
    },
    {
      "cell_type": "markdown",
      "metadata": {
        "id": "VXBQODOdUD7U"
      },
      "source": [
        "##Using returns DataFrame, figure out on what dates each bank stock had the best and worst single day returns. "
      ]
    },
    {
      "cell_type": "code",
      "metadata": {
        "colab": {
          "base_uri": "https://localhost:8080/",
          "height": 225
        },
        "id": "SAT01PS6TD9i",
        "outputId": "9f49dd39-761d-42a7-d336-cacba2ac048c"
      },
      "source": [
        "returns.head()"
      ],
      "execution_count": 43,
      "outputs": [
        {
          "output_type": "execute_result",
          "data": {
            "text/html": [
              "<div>\n",
              "<style scoped>\n",
              "    .dataframe tbody tr th:only-of-type {\n",
              "        vertical-align: middle;\n",
              "    }\n",
              "\n",
              "    .dataframe tbody tr th {\n",
              "        vertical-align: top;\n",
              "    }\n",
              "\n",
              "    .dataframe thead th {\n",
              "        text-align: right;\n",
              "    }\n",
              "</style>\n",
              "<table border=\"1\" class=\"dataframe\">\n",
              "  <thead>\n",
              "    <tr style=\"text-align: right;\">\n",
              "      <th></th>\n",
              "      <th>BAC Return</th>\n",
              "      <th>C Return</th>\n",
              "      <th>GS Return</th>\n",
              "      <th>JPM Return</th>\n",
              "      <th>MS Return</th>\n",
              "      <th>WF Return</th>\n",
              "    </tr>\n",
              "    <tr>\n",
              "      <th>Date</th>\n",
              "      <th></th>\n",
              "      <th></th>\n",
              "      <th></th>\n",
              "      <th></th>\n",
              "      <th></th>\n",
              "      <th></th>\n",
              "    </tr>\n",
              "  </thead>\n",
              "  <tbody>\n",
              "    <tr>\n",
              "      <th>2006-01-03</th>\n",
              "      <td>NaN</td>\n",
              "      <td>NaN</td>\n",
              "      <td>NaN</td>\n",
              "      <td>NaN</td>\n",
              "      <td>NaN</td>\n",
              "      <td>NaN</td>\n",
              "    </tr>\n",
              "    <tr>\n",
              "      <th>2006-01-04</th>\n",
              "      <td>-0.010620</td>\n",
              "      <td>-0.010620</td>\n",
              "      <td>-0.013812</td>\n",
              "      <td>-0.014183</td>\n",
              "      <td>0.000686</td>\n",
              "      <td>0.015536</td>\n",
              "    </tr>\n",
              "    <tr>\n",
              "      <th>2006-01-05</th>\n",
              "      <td>0.001288</td>\n",
              "      <td>0.001288</td>\n",
              "      <td>-0.000393</td>\n",
              "      <td>0.003029</td>\n",
              "      <td>0.002742</td>\n",
              "      <td>-0.018196</td>\n",
              "    </tr>\n",
              "    <tr>\n",
              "      <th>2006-01-06</th>\n",
              "      <td>-0.001501</td>\n",
              "      <td>-0.001501</td>\n",
              "      <td>0.014169</td>\n",
              "      <td>0.007046</td>\n",
              "      <td>0.001025</td>\n",
              "      <td>0.042316</td>\n",
              "    </tr>\n",
              "    <tr>\n",
              "      <th>2006-01-09</th>\n",
              "      <td>0.000644</td>\n",
              "      <td>0.000644</td>\n",
              "      <td>0.012030</td>\n",
              "      <td>0.016242</td>\n",
              "      <td>0.010586</td>\n",
              "      <td>-0.020456</td>\n",
              "    </tr>\n",
              "  </tbody>\n",
              "</table>\n",
              "</div>"
            ],
            "text/plain": [
              "            BAC Return  C Return  GS Return  JPM Return  MS Return  WF Return\n",
              "Date                                                                         \n",
              "2006-01-03         NaN       NaN        NaN         NaN        NaN        NaN\n",
              "2006-01-04   -0.010620 -0.010620  -0.013812   -0.014183   0.000686   0.015536\n",
              "2006-01-05    0.001288  0.001288  -0.000393    0.003029   0.002742  -0.018196\n",
              "2006-01-06   -0.001501 -0.001501   0.014169    0.007046   0.001025   0.042316\n",
              "2006-01-09    0.000644  0.000644   0.012030    0.016242   0.010586  -0.020456"
            ]
          },
          "metadata": {
            "tags": []
          },
          "execution_count": 43
        }
      ]
    },
    {
      "cell_type": "code",
      "metadata": {
        "colab": {
          "base_uri": "https://localhost:8080/"
        },
        "id": "ncBJxj0qUhPh",
        "outputId": "f75686ca-d01c-4a7c-eb98-87276b361598"
      },
      "source": [
        "returns.idxmin()"
      ],
      "execution_count": 44,
      "outputs": [
        {
          "output_type": "execute_result",
          "data": {
            "text/plain": [
              "BAC Return   2009-01-20\n",
              "C Return     2009-01-20\n",
              "GS Return    2009-01-20\n",
              "JPM Return   2009-01-20\n",
              "MS Return    2008-10-09\n",
              "WF Return    2008-09-29\n",
              "dtype: datetime64[ns]"
            ]
          },
          "metadata": {
            "tags": []
          },
          "execution_count": 44
        }
      ]
    },
    {
      "cell_type": "code",
      "metadata": {
        "colab": {
          "base_uri": "https://localhost:8080/"
        },
        "id": "6HCWvCg_UlMN",
        "outputId": "e920137e-a335-4264-9b95-4dd6c4b3b3e4"
      },
      "source": [
        "returns.idxmax()"
      ],
      "execution_count": 45,
      "outputs": [
        {
          "output_type": "execute_result",
          "data": {
            "text/plain": [
              "BAC Return   2009-04-09\n",
              "C Return     2009-04-09\n",
              "GS Return    2008-11-24\n",
              "JPM Return   2009-01-21\n",
              "MS Return    2008-10-13\n",
              "WF Return    2009-03-10\n",
              "dtype: datetime64[ns]"
            ]
          },
          "metadata": {
            "tags": []
          },
          "execution_count": 45
        }
      ]
    },
    {
      "cell_type": "markdown",
      "metadata": {
        "id": "AyAHbON6Vnpc"
      },
      "source": [
        "##Standard deviation of the returns , which stock would we classify as the riskiest over entire time period and which one for the year 2015?"
      ]
    },
    {
      "cell_type": "code",
      "metadata": {
        "colab": {
          "base_uri": "https://localhost:8080/"
        },
        "id": "1UAtusP9VHQp",
        "outputId": "dd0dd758-e1df-41f5-d2ca-51a06a6890b0"
      },
      "source": [
        "returns.std()"
      ],
      "execution_count": 46,
      "outputs": [
        {
          "output_type": "execute_result",
          "data": {
            "text/plain": [
              "BAC Return    0.036647\n",
              "C Return      0.036647\n",
              "GS Return     0.025390\n",
              "JPM Return    0.027667\n",
              "MS Return     0.037819\n",
              "WF Return     0.035348\n",
              "dtype: float64"
            ]
          },
          "metadata": {
            "tags": []
          },
          "execution_count": 46
        }
      ]
    },
    {
      "cell_type": "code",
      "metadata": {
        "colab": {
          "base_uri": "https://localhost:8080/"
        },
        "id": "_SaiFhZtWA3l",
        "outputId": "67b6c21a-f10c-4731-92b6-279e9ff598fc"
      },
      "source": [
        "returns.loc['2015-01-01':'2015-12-31'].std()"
      ],
      "execution_count": 50,
      "outputs": [
        {
          "output_type": "execute_result",
          "data": {
            "text/plain": [
              "BAC Return    0.016163\n",
              "C Return      0.016163\n",
              "GS Return     0.014046\n",
              "JPM Return    0.014017\n",
              "MS Return     0.016249\n",
              "WF Return     0.022002\n",
              "dtype: float64"
            ]
          },
          "metadata": {
            "tags": []
          },
          "execution_count": 50
        }
      ]
    },
    {
      "cell_type": "markdown",
      "metadata": {
        "id": "jwEIbFR2W-F5"
      },
      "source": [
        "##Creating a distplot using seaborn of the 2015 returns for Morgan Stanley"
      ]
    },
    {
      "cell_type": "code",
      "metadata": {
        "colab": {
          "base_uri": "https://localhost:8080/",
          "height": 350
        },
        "id": "IdjiUMeTWFnp",
        "outputId": "ba6cf825-cca3-4e06-f6e8-0239cb4697e4"
      },
      "source": [
        "sns.distplot(returns.loc['2015-01-01':'2015-12-31']['MS Return'],color ='green',bins =50)"
      ],
      "execution_count": 53,
      "outputs": [
        {
          "output_type": "stream",
          "text": [
            "/usr/local/lib/python3.7/dist-packages/seaborn/distributions.py:2557: FutureWarning: `distplot` is a deprecated function and will be removed in a future version. Please adapt your code to use either `displot` (a figure-level function with similar flexibility) or `histplot` (an axes-level function for histograms).\n",
            "  warnings.warn(msg, FutureWarning)\n"
          ],
          "name": "stderr"
        },
        {
          "output_type": "execute_result",
          "data": {
            "text/plain": [
              "<matplotlib.axes._subplots.AxesSubplot at 0x7f967ffb57d0>"
            ]
          },
          "metadata": {
            "tags": []
          },
          "execution_count": 53
        },
        {
          "output_type": "display_data",
          "data": {
            "image/png": "[encoded data removed]",
            "text/plain": [
              "<Figure size 432x288 with 1 Axes>"
            ]
          },
          "metadata": {
            "tags": [],
            "needs_background": "light"
          }
        }
      ]
    },
    {
      "cell_type": "markdown",
      "metadata": {
        "id": "KCjfq6DgXdkl"
      },
      "source": [
        "##Creating a distpplot using seaborn of the 2008 returns for CitiGroup"
      ]
    },
    {
      "cell_type": "code",
      "metadata": {
        "colab": {
          "base_uri": "https://localhost:8080/",
          "height": 350
        },
        "id": "0MNPb4ALXnyp",
        "outputId": "6e25f5f6-bdce-4900-eedc-b72a3c2cce2c"
      },
      "source": [
        "sns.distplot(returns.loc['2008-01-01':'2008-12-31']['C Return'],color ='red',bins =50)"
      ],
      "execution_count": 56,
      "outputs": [
        {
          "output_type": "stream",
          "text": [
            "/usr/local/lib/python3.7/dist-packages/seaborn/distributions.py:2557: FutureWarning: `distplot` is a deprecated function and will be removed in a future version. Please adapt your code to use either `displot` (a figure-level function with similar flexibility) or `histplot` (an axes-level function for histograms).\n",
            "  warnings.warn(msg, FutureWarning)\n"
          ],
          "name": "stderr"
        },
        {
          "output_type": "execute_result",
          "data": {
            "text/plain": [
              "<matplotlib.axes._subplots.AxesSubplot at 0x7f9683fd0e90>"
            ]
          },
          "metadata": {
            "tags": []
          },
          "execution_count": 56
        },
        {
          "output_type": "display_data",
          "data": {
            "image/png": "[encoded data removed]",
            "text/plain": [
              "<Figure size 432x288 with 1 Axes>"
            ]
          },
          "metadata": {
            "tags": [],
            "needs_background": "light"
          }
        }
      ]
    }
  ]
}